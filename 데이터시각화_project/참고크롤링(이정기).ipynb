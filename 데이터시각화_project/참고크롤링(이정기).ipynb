{
 "cells": [
  {
   "cell_type": "code",
   "execution_count": 3,
   "id": "photographic-failure",
   "metadata": {},
   "outputs": [],
   "source": [
    "#라이브러리 로드\n",
    "#requests로 웹브라우저 웹사이트 내용을 가져온다\n",
    "import requests\n",
    "#BeautifulSoup을 통해 읽어 온 웹사이트를 파싱한다.\n",
    "from bs4 import BeautifulSoup as bs\n",
    "#크롤링 후 결과를 데이터프레임 형태로 보기 위해 불러온다.\n",
    "import pandas as pd\n",
    "\n",
    "#크롤링에서 댓글이 많으므로 for문으로 돌리면서 데이터를 저장할 때 시간을 알기 위해\n",
    "from tqdm import trange"
   ]
  },
  {
   "cell_type": "code",
   "execution_count": 4,
   "id": "broadband-edition",
   "metadata": {},
   "outputs": [
    {
     "data": {
      "text/plain": [
       "<Response [200]>"
      ]
     },
     "execution_count": 4,
     "metadata": {},
     "output_type": "execute_result"
    }
   ],
   "source": [
    "#크롤링 할 사이트\n",
    "base_url = \"https://search.naver.com/search.naver?where=nexearch&sm=top_hty&fbm=0&ie=utf8&query=%EC%A7%B1%EA%B5%AC%EB%8C%80%EB%94%94\"\n",
    "response = requests.get(base_url)\n",
    "response"
   ]
  },
  {
   "cell_type": "code",
   "execution_count": 5,
   "id": "combined-vietnamese",
   "metadata": {},
   "outputs": [],
   "source": [
    "soup = bs(response.text, 'html.parser')"
   ]
  },
  {
   "cell_type": "code",
   "execution_count": null,
   "id": "sapphire-quick",
   "metadata": {},
   "outputs": [],
   "source": [
    "#main_pack > section.sc_new.sp_nreview._prs_rvw._au_view_collection > div > div._svp_list > panel-list > div > ul > li:nth-child(1) > div.total_wrap.api_ani_send > div"
   ]
  },
  {
   "cell_type": "code",
   "execution_count": 6,
   "id": "innovative-colon",
   "metadata": {},
   "outputs": [
    {
     "data": {
      "text/plain": [
       "<div class=\"total_area\"> <div class=\"total_info\"> <div class=\"api_save_group _keep_wrap\"> <a aria-pressed=\"false\" class=\"btn_save _keep_trigger\" data-url=\"https://blog.naver.com/atcovernat/221757815180\" href=\"#\" onclick=\"tCR('a=rvw*b.kep&amp;r=1&amp;i=90000003_0000000000000033A1CBB98C&amp;u=javascript'); return false;\" role=\"button\"><i class=\"spnew ico_save\">문서 저장하기</i></a> <div class=\"api_ly_save _keep_save_layer\"> <a class=\"spnew_af item item_save _keep_save\" data-cr-off=\"a=rvw*b.kepoff&amp;r=1&amp;i=90000003_0000000000000033A1CBB98C&amp;u=javascript\" data-cr-on=\"a=rvw*b.kepon&amp;r=1&amp;i=90000003_0000000000000033A1CBB98C&amp;u=javascript\" href=\"#\" role=\"button\">Keep에 저장</a> <a class=\"spnew_af item item_quick\" href=\"https://keep.naver.com/\" onclick=\"return goOtherCR(this,'a=rvw*b.kephome&amp;r=1&amp;i=90000003_0000000000000033A1CBB98C&amp;u='+urlencode(this.href));\" target=\"_blank\">Keep 바로가기</a> </div></div><div class=\"total_sub\"> <a class=\"sub_thumb\" href=\"https://blog.naver.com/atcovernat\" onclick=\"return goOtherCR(this, 'a=rvw*b.writer&amp;r=1&amp;i=90000003_0000000000000033A1CBB98C&amp;u='+urlencode(this.href))\" target=\"_blank\"> <span class=\"thumb\"><img alt=\"\" class=\"\" height=\"20\" onerror=\"this.src='data:image/gif;base64,R0lGODlhAQABAIAAAAAAAP///yH5BAEAAAAALAAAAAABAAEAAAIBRAA7';this.className='bg_npimg'\" src=\"https://search.pstatic.net/common/?src=http%3A%2F%2Fblogpfthumb.phinf.naver.net%2FMjAxNzEwMzFfMTA3%2FMDAxNTA5NDE1ODE0NDE0.eDxb4_M6jl3AYw3262QHUt4bL9MbTIeekPIfFG0uMCwg.Tkyv24HUQsB5DxyJz01KQjok-d6TB0RjzUEeWfGK54Eg.JPEG.atcovernat%2F111.jpg&amp;type=f54_54\" width=\"20\"/></span> </a> <span class=\"elss etc_dsc\"> <span class=\"etc_dsc_group\"> <span class=\"etc_dsc_area\"> <span class=\"sub_time sub_txt\">2020.01.02.</span> </span><span class=\"elss etc_dsc_inner\"> <a class=\"sub_txt sub_name\" href=\"https://blog.naver.com/atcovernat\" onclick=\"return goOtherCR(this, 'a=rvw*b.writer&amp;r=1&amp;i=90000003_0000000000000033A1CBB98C&amp;u='+urlencode(this.href))\" target=\"_blank\">커버낫</a> </span> </span></span></div></div><a class=\"api_txt_lines total_tit\" data-recommend=\"1\" href=\"https://blog.naver.com/atcovernat/221757815180\" onclick=\"return goOtherCR(this, 'a=rvw*b.link&amp;r=1&amp;i=90000003_0000000000000033A1CBB98C&amp;u='+urlencode(this.href))\" target=\"_blank\">인기 유튜버 채널 속 커버낫 with <mark>짱구대디</mark></a> <div class=\"total_group\"> <div class=\"total_dsc_wrap\"> <a class=\"total_dsc\" data-recommend=\"1\" href=\"https://blog.naver.com/atcovernat/221757815180\" onclick=\"return goOtherCR(this, 'a=rvw*b.link&amp;r=1&amp;i=90000003_0000000000000033A1CBB98C&amp;u='+urlencode(this.href))\" target=\"_blank\"> <div class=\"api_txt_lines dsc_txt\"><mark>짱구대디</mark> 첫 번째로 소개드릴 인기 유튜버는 무려 46만 구독자를 보유하고 있는 패션 &amp; 리뷰 &amp; 남친룩을 전문적으로 다루는 패션 유튜버 <mark>짱구 대디</mark>에요! <mark>짱구대디</mark>는 이번 영상에서 \"신사동에 있는 커버낫 매장 뿌수고...</div> </a> </div></div></div>"
      ]
     },
     "execution_count": 6,
     "metadata": {},
     "output_type": "execute_result"
    }
   ],
   "source": [
    "content = soup.select(\"#main_pack > section.sc_new.sp_nreview._prs_rvw._au_view_collection > div > div._svp_list > panel-list > div > ul > li:nth-child(1) > div.total_wrap.api_ani_send > div\")\n",
    "content[-1]"
   ]
  },
  {
   "cell_type": "code",
   "execution_count": 7,
   "id": "worse-remove",
   "metadata": {},
   "outputs": [
    {
     "data": {
      "text/plain": [
       "'짱구대디첫 번째로 소개드릴 인기 유튜버는 무려 46만 구독자를 보유하고 있는 패션 & 리뷰 & 남친룩을 전문적으로 다루는 패션 유튜버짱구 대디에요!짱구대디는 이번 영상에서 \"신사동에 있는 커버낫 매장 뿌수고...'"
      ]
     },
     "execution_count": 7,
     "metadata": {},
     "output_type": "execute_result"
    }
   ],
   "source": [
    "chitchat = content[-1].select(\"div.total_dsc_wrap\")[0].get_text(strip=True)\n",
    "chitchat\n",
    "#get_text(strip true)는 앞뒤에 있는 공백을 제거하는 것이다.\n",
    "#chitchat이라는변수에 담아준다."
   ]
  },
  {
   "cell_type": "code",
   "execution_count": 8,
   "id": "continued-julian",
   "metadata": {},
   "outputs": [
    {
     "name": "stdout",
     "output_type": "stream",
     "text": [
      "0\n",
      "1\n",
      "2\n",
      "3\n",
      "4\n"
     ]
    }
   ],
   "source": [
    "for i in range(5):\n",
    "    print(i)"
   ]
  },
  {
   "cell_type": "code",
   "execution_count": 9,
   "id": "integrated-sharing",
   "metadata": {},
   "outputs": [
    {
     "name": "stdout",
     "output_type": "stream",
     "text": [
      "짱구대디첫 번째로 소개드릴 인기 유튜버는 무려 46만 구독자를 보유하고 있는 패션 & 리뷰 & 남친룩을 전문적으로 다루는 패션 유튜버짱구 대디에요!짱구대디는 이번 영상에서 \"신사동에 있는 커버낫 매장 뿌수고...\n",
      "짱구대디첫 번째로 소개드릴 인기 유튜버는 무려 46만 구독자를 보유하고 있는 패션 & 리뷰 & 남친룩을 전문적으로 다루는 패션 유튜버짱구 대디에요!짱구대디는 이번 영상에서 \"신사동에 있는 커버낫 매장 뿌수고...\n",
      "짱구대디첫 번째로 소개드릴 인기 유튜버는 무려 46만 구독자를 보유하고 있는 패션 & 리뷰 & 남친룩을 전문적으로 다루는 패션 유튜버짱구 대디에요!짱구대디는 이번 영상에서 \"신사동에 있는 커버낫 매장 뿌수고...\n",
      "짱구대디첫 번째로 소개드릴 인기 유튜버는 무려 46만 구독자를 보유하고 있는 패션 & 리뷰 & 남친룩을 전문적으로 다루는 패션 유튜버짱구 대디에요!짱구대디는 이번 영상에서 \"신사동에 있는 커버낫 매장 뿌수고...\n",
      "짱구대디첫 번째로 소개드릴 인기 유튜버는 무려 46만 구독자를 보유하고 있는 패션 & 리뷰 & 남친룩을 전문적으로 다루는 패션 유튜버짱구 대디에요!짱구대디는 이번 영상에서 \"신사동에 있는 커버낫 매장 뿌수고...\n"
     ]
    }
   ],
   "source": [
    "for i in range(5):\n",
    "    chitchat = content[-1].select(\"div.total_dsc_wrap\")[0].get_text(strip=True)\n",
    "    print(chitchat)"
   ]
  },
  {
   "cell_type": "code",
   "execution_count": 10,
   "id": "right-indonesian",
   "metadata": {
    "scrolled": true
   },
   "outputs": [
    {
     "name": "stdout",
     "output_type": "stream",
     "text": [
      "짱구대디첫 번째로 소개드릴 인기 유튜버는 무려 46만 구독자를 보유하고 있는 패션 & 리뷰 & 남친룩을 전문적으로 다루는 패션 유튜버짱구 대디에요!짱구대디는 이번 영상에서 \"신사동에 있는 커버낫 매장 뿌수고...\n"
     ]
    },
    {
     "ename": "IndexError",
     "evalue": "list index out of range",
     "output_type": "error",
     "traceback": [
      "\u001b[1;31m---------------------------------------------------------------------------\u001b[0m",
      "\u001b[1;31mIndexError\u001b[0m                                Traceback (most recent call last)",
      "\u001b[1;32m<ipython-input-10-c4a70cb10dbb>\u001b[0m in \u001b[0;36m<module>\u001b[1;34m\u001b[0m\n\u001b[0;32m      1\u001b[0m \u001b[1;32mfor\u001b[0m \u001b[0mi\u001b[0m \u001b[1;32min\u001b[0m \u001b[0mrange\u001b[0m\u001b[1;33m(\u001b[0m\u001b[1;36m5\u001b[0m\u001b[1;33m)\u001b[0m\u001b[1;33m:\u001b[0m\u001b[1;33m\u001b[0m\u001b[1;33m\u001b[0m\u001b[0m\n\u001b[1;32m----> 2\u001b[1;33m     \u001b[0mchitchat\u001b[0m \u001b[1;33m=\u001b[0m \u001b[0mcontent\u001b[0m\u001b[1;33m[\u001b[0m\u001b[0mi\u001b[0m\u001b[1;33m]\u001b[0m\u001b[1;33m.\u001b[0m\u001b[0mselect\u001b[0m\u001b[1;33m(\u001b[0m\u001b[1;34m\"div.total_dsc_wrap\"\u001b[0m\u001b[1;33m)\u001b[0m\u001b[1;33m[\u001b[0m\u001b[1;36m0\u001b[0m\u001b[1;33m]\u001b[0m\u001b[1;33m.\u001b[0m\u001b[0mget_text\u001b[0m\u001b[1;33m(\u001b[0m\u001b[0mstrip\u001b[0m\u001b[1;33m=\u001b[0m\u001b[1;32mTrue\u001b[0m\u001b[1;33m)\u001b[0m\u001b[1;33m\u001b[0m\u001b[1;33m\u001b[0m\u001b[0m\n\u001b[0m\u001b[0;32m      3\u001b[0m     \u001b[0mprint\u001b[0m\u001b[1;33m(\u001b[0m\u001b[0mchitchat\u001b[0m\u001b[1;33m)\u001b[0m\u001b[1;33m\u001b[0m\u001b[1;33m\u001b[0m\u001b[0m\n",
      "\u001b[1;31mIndexError\u001b[0m: list index out of range"
     ]
    }
   ],
   "source": [
    "for i in range(5):\n",
    "    chitchat = content[i].select(\"div.total_dsc_wrap\")[0].get_text(strip=True)\n",
    "    print(chitchat)"
   ]
  },
  {
   "cell_type": "code",
   "execution_count": 11,
   "id": "impaired-tours",
   "metadata": {
    "scrolled": true
   },
   "outputs": [
    {
     "name": "stdout",
     "output_type": "stream",
     "text": [
      "____________________\n",
      "짱구대디첫 번째로 소개드릴 인기 유튜버는 무려 46만 구독자를 보유하고 있는 패션 & 리뷰 & 남친룩을 전문적으로 다루는 패션 유튜버짱구 대디에요!짱구대디는 이번 영상에서 \"신사동에 있는 커버낫 매장 뿌수고...\n",
      "____________________\n",
      "짱구대디첫 번째로 소개드릴 인기 유튜버는 무려 46만 구독자를 보유하고 있는 패션 & 리뷰 & 남친룩을 전문적으로 다루는 패션 유튜버짱구 대디에요!짱구대디는 이번 영상에서 \"신사동에 있는 커버낫 매장 뿌수고...\n",
      "____________________\n",
      "짱구대디첫 번째로 소개드릴 인기 유튜버는 무려 46만 구독자를 보유하고 있는 패션 & 리뷰 & 남친룩을 전문적으로 다루는 패션 유튜버짱구 대디에요!짱구대디는 이번 영상에서 \"신사동에 있는 커버낫 매장 뿌수고...\n",
      "____________________\n",
      "짱구대디첫 번째로 소개드릴 인기 유튜버는 무려 46만 구독자를 보유하고 있는 패션 & 리뷰 & 남친룩을 전문적으로 다루는 패션 유튜버짱구 대디에요!짱구대디는 이번 영상에서 \"신사동에 있는 커버낫 매장 뿌수고...\n",
      "____________________\n",
      "짱구대디첫 번째로 소개드릴 인기 유튜버는 무려 46만 구독자를 보유하고 있는 패션 & 리뷰 & 남친룩을 전문적으로 다루는 패션 유튜버짱구 대디에요!짱구대디는 이번 영상에서 \"신사동에 있는 커버낫 매장 뿌수고...\n"
     ]
    }
   ],
   "source": [
    "for i in range(5):\n",
    "    print(\"_\"*20)\n",
    "    chitchat = content[-1].select(\"div.total_dsc_wrap\")[0].get_text(strip=True)\n",
    "    print(chitchat)"
   ]
  },
  {
   "cell_type": "code",
   "execution_count": 12,
   "id": "measured-wrestling",
   "metadata": {},
   "outputs": [
    {
     "name": "stdout",
     "output_type": "stream",
     "text": [
      "---------------------------------------------\n",
      "짱구대디첫 번째로 소개드릴 인기 유튜버는 무려 46만 구독자를 보유하고 있는 패션 & 리뷰 & 남친룩을 전문적으로 다루는 패션 유튜버짱구 대디에요!짱구대디는 이번 영상에서 \"신사동에 있는 커버낫 매장 뿌수고...\n",
      "---------------------------------------------\n",
      "짱구대디첫 번째로 소개드릴 인기 유튜버는 무려 46만 구독자를 보유하고 있는 패션 & 리뷰 & 남친룩을 전문적으로 다루는 패션 유튜버짱구 대디에요!짱구대디는 이번 영상에서 \"신사동에 있는 커버낫 매장 뿌수고...\n",
      "---------------------------------------------\n",
      "짱구대디첫 번째로 소개드릴 인기 유튜버는 무려 46만 구독자를 보유하고 있는 패션 & 리뷰 & 남친룩을 전문적으로 다루는 패션 유튜버짱구 대디에요!짱구대디는 이번 영상에서 \"신사동에 있는 커버낫 매장 뿌수고...\n",
      "---------------------------------------------\n",
      "짱구대디첫 번째로 소개드릴 인기 유튜버는 무려 46만 구독자를 보유하고 있는 패션 & 리뷰 & 남친룩을 전문적으로 다루는 패션 유튜버짱구 대디에요!짱구대디는 이번 영상에서 \"신사동에 있는 커버낫 매장 뿌수고...\n",
      "---------------------------------------------\n",
      "짱구대디첫 번째로 소개드릴 인기 유튜버는 무려 46만 구독자를 보유하고 있는 패션 & 리뷰 & 남친룩을 전문적으로 다루는 패션 유튜버짱구 대디에요!짱구대디는 이번 영상에서 \"신사동에 있는 커버낫 매장 뿌수고...\n"
     ]
    }
   ],
   "source": [
    "events = []\n",
    "for i in range(5):\n",
    "    print(\"-\"*45)\n",
    "    chitchat = content[-1].select(\"div.total_dsc_wrap\")[0].get_text(strip=True)\n",
    "    print(chitchat)\n",
    "    events.append(chitchat)\n",
    "    #event라는 배열을 만들어준다."
   ]
  },
  {
   "cell_type": "code",
   "execution_count": null,
   "id": "promotional-springer",
   "metadata": {},
   "outputs": [],
   "source": [
    "#section.sc_new.sp_nreview._prs_rvw._au_view_collection\n"
   ]
  },
  {
   "cell_type": "code",
   "execution_count": 13,
   "id": "protective-circus",
   "metadata": {},
   "outputs": [
    {
     "data": {
      "text/plain": [
       "['짱구대디첫 번째로 소개드릴 인기 유튜버는 무려 46만 구독자를 보유하고 있는 패션 & 리뷰 & 남친룩을 전문적으로 다루는 패션 유튜버짱구 대디에요!짱구대디는 이번 영상에서 \"신사동에 있는 커버낫 매장 뿌수고...',\n",
       " '짱구대디첫 번째로 소개드릴 인기 유튜버는 무려 46만 구독자를 보유하고 있는 패션 & 리뷰 & 남친룩을 전문적으로 다루는 패션 유튜버짱구 대디에요!짱구대디는 이번 영상에서 \"신사동에 있는 커버낫 매장 뿌수고...',\n",
       " '짱구대디첫 번째로 소개드릴 인기 유튜버는 무려 46만 구독자를 보유하고 있는 패션 & 리뷰 & 남친룩을 전문적으로 다루는 패션 유튜버짱구 대디에요!짱구대디는 이번 영상에서 \"신사동에 있는 커버낫 매장 뿌수고...',\n",
       " '짱구대디첫 번째로 소개드릴 인기 유튜버는 무려 46만 구독자를 보유하고 있는 패션 & 리뷰 & 남친룩을 전문적으로 다루는 패션 유튜버짱구 대디에요!짱구대디는 이번 영상에서 \"신사동에 있는 커버낫 매장 뿌수고...',\n",
       " '짱구대디첫 번째로 소개드릴 인기 유튜버는 무려 46만 구독자를 보유하고 있는 패션 & 리뷰 & 남친룩을 전문적으로 다루는 패션 유튜버짱구 대디에요!짱구대디는 이번 영상에서 \"신사동에 있는 커버낫 매장 뿌수고...']"
      ]
     },
     "execution_count": 13,
     "metadata": {},
     "output_type": "execute_result"
    }
   ],
   "source": [
    "events"
   ]
  },
  {
   "cell_type": "code",
   "execution_count": 14,
   "id": "solid-wednesday",
   "metadata": {},
   "outputs": [
    {
     "data": {
      "text/plain": [
       "1"
      ]
     },
     "execution_count": 14,
     "metadata": {},
     "output_type": "execute_result"
    }
   ],
   "source": [
    "len(content)\n",
    "#content의 갯수"
   ]
  },
  {
   "cell_type": "code",
   "execution_count": 15,
   "id": "closing-ghana",
   "metadata": {},
   "outputs": [
    {
     "data": {
      "text/plain": [
       "1"
      ]
     },
     "execution_count": 15,
     "metadata": {},
     "output_type": "execute_result"
    }
   ],
   "source": [
    "content_count = len(content)\n",
    "content_count\n",
    "#수집을 해서 분석하기 위해"
   ]
  },
  {
   "cell_type": "code",
   "execution_count": 16,
   "id": "golden-harassment",
   "metadata": {},
   "outputs": [
    {
     "name": "stderr",
     "output_type": "stream",
     "text": [
      "100%|████████████████████████████████████████████████████████████████████████████████████████████| 1/1 [00:00<?, ?it/s]\n"
     ]
    }
   ],
   "source": [
    "events = []\n",
    "for i in trange(content_count):\n",
    "    chitchat = content[i].select(\"div.total_dsc_wrap\")[0].get_text(strip=True)\n",
    "    events.append(chitchat)\n",
    "    #trange tqdm으로 얼마나 진행됬느지 확인한다, for문이 돌아가는데 시간이 걸리기 때문에"
   ]
  },
  {
   "cell_type": "code",
   "execution_count": 17,
   "id": "painful-blake",
   "metadata": {},
   "outputs": [
    {
     "data": {
      "text/plain": [
       "['짱구대디첫 번째로 소개드릴 인기 유튜버는 무려 46만 구독자를 보유하고 있는 패션 & 리뷰 & 남친룩을 전문적으로 다루는 패션 유튜버짱구 대디에요!짱구대디는 이번 영상에서 \"신사동에 있는 커버낫 매장 뿌수고...']"
      ]
     },
     "execution_count": 17,
     "metadata": {},
     "output_type": "execute_result"
    }
   ],
   "source": [
    "events[:5]"
   ]
  },
  {
   "cell_type": "code",
   "execution_count": 18,
   "id": "meaningful-reply",
   "metadata": {},
   "outputs": [
    {
     "data": {
      "text/html": [
       "<div>\n",
       "<style scoped>\n",
       "    .dataframe tbody tr th:only-of-type {\n",
       "        vertical-align: middle;\n",
       "    }\n",
       "\n",
       "    .dataframe tbody tr th {\n",
       "        vertical-align: top;\n",
       "    }\n",
       "\n",
       "    .dataframe thead th {\n",
       "        text-align: right;\n",
       "    }\n",
       "</style>\n",
       "<table border=\"1\" class=\"dataframe\">\n",
       "  <thead>\n",
       "    <tr style=\"text-align: right;\">\n",
       "      <th></th>\n",
       "      <th>text</th>\n",
       "    </tr>\n",
       "  </thead>\n",
       "  <tbody>\n",
       "    <tr>\n",
       "      <th>0</th>\n",
       "      <td>짱구대디첫 번째로 소개드릴 인기 유튜버는 무려 46만 구독자를 보유하고 있는 패션 ...</td>\n",
       "    </tr>\n",
       "  </tbody>\n",
       "</table>\n",
       "</div>"
      ],
      "text/plain": [
       "                                                text\n",
       "0  짱구대디첫 번째로 소개드릴 인기 유튜버는 무려 46만 구독자를 보유하고 있는 패션 ..."
      ]
     },
     "execution_count": 18,
     "metadata": {},
     "output_type": "execute_result"
    }
   ],
   "source": [
    "pd.DataFrame({\"text\":events})\n",
    "#pandas를 이용하여 text를 나열한다.\n",
    "#text들이 수집이 되었다.\n"
   ]
  },
  {
   "cell_type": "code",
   "execution_count": 26,
   "id": "excess-pharmacology",
   "metadata": {},
   "outputs": [
    {
     "data": {
      "text/plain": [
       "(1, 1)"
      ]
     },
     "execution_count": 26,
     "metadata": {},
     "output_type": "execute_result"
    }
   ],
   "source": [
    "df = pd.DataFrame({\"text\": events})\n",
    "df.shape\n",
    "\n",
    "#수집된 갯수"
   ]
  },
  {
   "cell_type": "code",
   "execution_count": 27,
   "id": "powerful-zambia",
   "metadata": {},
   "outputs": [],
   "source": [
    "df.to_csv(\"finalproject-1591027-LJK.csv\", index=False)\n",
    "#파일로 저장한다."
   ]
  },
  {
   "cell_type": "code",
   "execution_count": 28,
   "id": "geographic-danish",
   "metadata": {},
   "outputs": [
    {
     "data": {
      "text/html": [
       "<div>\n",
       "<style scoped>\n",
       "    .dataframe tbody tr th:only-of-type {\n",
       "        vertical-align: middle;\n",
       "    }\n",
       "\n",
       "    .dataframe tbody tr th {\n",
       "        vertical-align: top;\n",
       "    }\n",
       "\n",
       "    .dataframe thead th {\n",
       "        text-align: right;\n",
       "    }\n",
       "</style>\n",
       "<table border=\"1\" class=\"dataframe\">\n",
       "  <thead>\n",
       "    <tr style=\"text-align: right;\">\n",
       "      <th></th>\n",
       "      <th>text</th>\n",
       "    </tr>\n",
       "  </thead>\n",
       "  <tbody>\n",
       "    <tr>\n",
       "      <th>0</th>\n",
       "      <td>짱구대디첫 번째로 소개드릴 인기 유튜버는 무려 46만 구독자를 보유하고 있는 패션 ...</td>\n",
       "    </tr>\n",
       "  </tbody>\n",
       "</table>\n",
       "</div>"
      ],
      "text/plain": [
       "                                                text\n",
       "0  짱구대디첫 번째로 소개드릴 인기 유튜버는 무려 46만 구독자를 보유하고 있는 패션 ..."
      ]
     },
     "execution_count": 28,
     "metadata": {},
     "output_type": "execute_result"
    }
   ],
   "source": [
    "pd.read_csv(\"finalproject-1591027-LJK.csv\").head()"
   ]
  },
  {
   "cell_type": "code",
   "execution_count": null,
   "id": "noble-potter",
   "metadata": {},
   "outputs": [],
   "source": [
    "#댓글을 분석하기 위해 ,빈도 수로 추출하기 위해\n",
    "#선호도와 경쟁사 분석을 위해서(마케팅 세그먼트)"
   ]
  },
  {
   "cell_type": "code",
   "execution_count": 30,
   "id": "matched-charles",
   "metadata": {},
   "outputs": [],
   "source": [
    "import pandas as pd\n",
    "import numpy as np\n",
    "import re\n",
    "#정규표현식을 사용하기 위해\n",
    "import matplotlib.pyplot as plt\n",
    "#pip install matplotlib를 해준다.\n",
    "#시각화를 위해 사용하기 위해서\n",
    "\n",
    "%matplotlib inline\n",
    "#시각화 결과가 선명하게 표시되도록\n",
    "%config InlineBackend.figure_format = 'retina'"
   ]
  },
  {
   "cell_type": "code",
   "execution_count": 31,
   "id": "beautiful-lewis",
   "metadata": {},
   "outputs": [],
   "source": [
    "#Window 한글폰트 설정\n",
    "plt.rc(\"font\", family=\"Malgun Gothic\")"
   ]
  },
  {
   "cell_type": "code",
   "execution_count": 32,
   "id": "noble-jonathan",
   "metadata": {},
   "outputs": [
    {
     "data": {
      "text/plain": [
       "(1, 1)"
      ]
     },
     "execution_count": 32,
     "metadata": {},
     "output_type": "execute_result"
    }
   ],
   "source": [
    "df = pd.read_csv(\"finalproject-1591027-LJK.csv\")\n",
    "df.shape"
   ]
  },
  {
   "cell_type": "code",
   "execution_count": 33,
   "id": "fallen-watson",
   "metadata": {},
   "outputs": [
    {
     "data": {
      "text/html": [
       "<div>\n",
       "<style scoped>\n",
       "    .dataframe tbody tr th:only-of-type {\n",
       "        vertical-align: middle;\n",
       "    }\n",
       "\n",
       "    .dataframe tbody tr th {\n",
       "        vertical-align: top;\n",
       "    }\n",
       "\n",
       "    .dataframe thead th {\n",
       "        text-align: right;\n",
       "    }\n",
       "</style>\n",
       "<table border=\"1\" class=\"dataframe\">\n",
       "  <thead>\n",
       "    <tr style=\"text-align: right;\">\n",
       "      <th></th>\n",
       "      <th>text</th>\n",
       "    </tr>\n",
       "  </thead>\n",
       "  <tbody>\n",
       "    <tr>\n",
       "      <th>0</th>\n",
       "      <td>짱구대디첫 번째로 소개드릴 인기 유튜버는 무려 46만 구독자를 보유하고 있는 패션 ...</td>\n",
       "    </tr>\n",
       "  </tbody>\n",
       "</table>\n",
       "</div>"
      ],
      "text/plain": [
       "                                                text\n",
       "0  짱구대디첫 번째로 소개드릴 인기 유튜버는 무려 46만 구독자를 보유하고 있는 패션 ..."
      ]
     },
     "execution_count": 33,
     "metadata": {},
     "output_type": "execute_result"
    }
   ],
   "source": [
    "df.tail()\n",
    "#최근 게시물을 보기위해"
   ]
  },
  {
   "cell_type": "code",
   "execution_count": 34,
   "id": "specified-hypothesis",
   "metadata": {},
   "outputs": [
    {
     "name": "stdout",
     "output_type": "stream",
     "text": [
      "(1, 1)\n",
      "(1, 1)\n"
     ]
    }
   ],
   "source": [
    "#중복으로 댓글이 달려있는것을 다 세어주게 되면 빈도수로 제대로 된 분석이 어렵다 \n",
    "#따라서 dupliacates로 걸러준다. 빈도수 중복을 방지하기 위해서\n",
    "print(df.shape)\n",
    "df = df.drop_duplicates([\"text\"], keep = \"last\")\n",
    "print(df.shape)"
   ]
  },
  {
   "cell_type": "code",
   "execution_count": 36,
   "id": "cooperative-alabama",
   "metadata": {},
   "outputs": [
    {
     "data": {
      "text/html": [
       "<div>\n",
       "<style scoped>\n",
       "    .dataframe tbody tr th:only-of-type {\n",
       "        vertical-align: middle;\n",
       "    }\n",
       "\n",
       "    .dataframe tbody tr th {\n",
       "        vertical-align: top;\n",
       "    }\n",
       "\n",
       "    .dataframe thead th {\n",
       "        text-align: right;\n",
       "    }\n",
       "</style>\n",
       "<table border=\"1\" class=\"dataframe\">\n",
       "  <thead>\n",
       "    <tr style=\"text-align: right;\">\n",
       "      <th></th>\n",
       "      <th>text</th>\n",
       "      <th>origin_text</th>\n",
       "    </tr>\n",
       "  </thead>\n",
       "  <tbody>\n",
       "    <tr>\n",
       "      <th>0</th>\n",
       "      <td>짱구대디첫 번째로 소개드릴 인기 유튜버는 무려 46만 구독자를 보유하고 있는 패션 ...</td>\n",
       "      <td>짱구대디첫 번째로 소개드릴 인기 유튜버는 무려 46만 구독자를 보유하고 있는 패션 ...</td>\n",
       "    </tr>\n",
       "  </tbody>\n",
       "</table>\n",
       "</div>"
      ],
      "text/plain": [
       "                                                text  \\\n",
       "0  짱구대디첫 번째로 소개드릴 인기 유튜버는 무려 46만 구독자를 보유하고 있는 패션 ...   \n",
       "\n",
       "                                         origin_text  \n",
       "0  짱구대디첫 번째로 소개드릴 인기 유튜버는 무려 46만 구독자를 보유하고 있는 패션 ...  "
      ]
     },
     "execution_count": 36,
     "metadata": {},
     "output_type": "execute_result"
    }
   ],
   "source": [
    "#전처리 전에 원본을 보존하기 위해 복사를 해준다.\n",
    "df[\"origin_text\"] =  df[\"text\"]\n",
    "df.head()\n",
    "#사본이 잘 생성된다."
   ]
  },
  {
   "cell_type": "code",
   "execution_count": 37,
   "id": "operating-placement",
   "metadata": {},
   "outputs": [],
   "source": [
    "#파이썬은 대소문자를 구분하기 때문에 데이터 필터링을 위해 대문자를 모두 소문자로 변경한다.\n",
    "df[\"text\"] = df[\"text\"].str.lower()"
   ]
  },
  {
   "cell_type": "code",
   "execution_count": 40,
   "id": "superior-gather",
   "metadata": {},
   "outputs": [],
   "source": [
    "#같은 의미의 단어를 하나로 통일 한다. \n",
    "df[\"text\"] = df[\"text\"].str.replace(\n",
    "    \"shopping\", \"쇼핑\").str.replace(\n",
    "    \"good\", \"좋은\").str.replace(\n",
    "    \"fashion\", \"패션\").str.replace(\n",
    "    \"짱구대디\",\"짱대\").str.replace(\n",
    "    \"react\",\"리액트\")\n"
   ]
  },
  {
   "cell_type": "code",
   "execution_count": 42,
   "id": "leading-nature",
   "metadata": {},
   "outputs": [
    {
     "data": {
      "text/plain": [
       "0    짱대첫 번째로 소개드릴 인기 유튜버는 무려 46만 구독자를 보유하고 있는 패션 & ...\n",
       "Name: course, dtype: object"
      ]
     },
     "execution_count": 42,
     "metadata": {},
     "output_type": "execute_result"
    }
   ],
   "source": [
    "#텍스트로 패션유투버 분리\n",
    "df[\"course\"] = df[\"text\"].apply(lambda x: x.split(\"패션유투버\")[-1])\n",
    "df[\"course\"] = df[\"text\"].apply(lambda x: x.split(\"패션 유투버\")[-1])\n",
    "df[\"course\"] = df[\"text\"].apply(lambda x: x.split(\"패션 유튜버\")[-1])\n",
    "df[\"course\"] = df[\"text\"].apply(lambda x: x.split(\"패션유튜버\")[-1])\n",
    "df[\"course\"] = df[\"text\"].str.replace(\":\",\"\")\n",
    "df[\"course\"].head()"
   ]
  },
  {
   "cell_type": "code",
   "execution_count": 43,
   "id": "laughing-faith",
   "metadata": {},
   "outputs": [
    {
     "data": {
      "text/plain": [
       "0    짱대첫 번째로 소개드릴 인기 유튜버는 무려 46만 구독자를 보유하고 있는 패션 & ...\n",
       "Name: course, dtype: object"
      ]
     },
     "execution_count": 43,
     "metadata": {},
     "output_type": "execute_result"
    }
   ],
   "source": [
    "df[\"course\"].tail()"
   ]
  },
  {
   "cell_type": "code",
   "execution_count": 45,
   "id": "occupational-briefs",
   "metadata": {},
   "outputs": [
    {
     "data": {
      "text/html": [
       "<div>\n",
       "<style scoped>\n",
       "    .dataframe tbody tr th:only-of-type {\n",
       "        vertical-align: middle;\n",
       "    }\n",
       "\n",
       "    .dataframe tbody tr th {\n",
       "        vertical-align: top;\n",
       "    }\n",
       "\n",
       "    .dataframe thead th {\n",
       "        text-align: right;\n",
       "    }\n",
       "</style>\n",
       "<table border=\"1\" class=\"dataframe\">\n",
       "  <thead>\n",
       "    <tr style=\"text-align: right;\">\n",
       "      <th></th>\n",
       "      <th>text</th>\n",
       "      <th>course</th>\n",
       "    </tr>\n",
       "  </thead>\n",
       "  <tbody>\n",
       "    <tr>\n",
       "      <th>0</th>\n",
       "      <td>짱대첫 번째로 소개드릴 인기 유튜버는 무려 46만 구독자를 보유하고 있는 패션 &amp; ...</td>\n",
       "      <td>짱대첫 번째로 소개드릴 인기 유튜버는 무려 46만 구독자를 보유하고 있는 패션 &amp; ...</td>\n",
       "    </tr>\n",
       "  </tbody>\n",
       "</table>\n",
       "</div>"
      ],
      "text/plain": [
       "                                                text  \\\n",
       "0  짱대첫 번째로 소개드릴 인기 유튜버는 무려 46만 구독자를 보유하고 있는 패션 & ...   \n",
       "\n",
       "                                              course  \n",
       "0  짱대첫 번째로 소개드릴 인기 유튜버는 무려 46만 구독자를 보유하고 있는 패션 & ...  "
      ]
     },
     "execution_count": 45,
     "metadata": {},
     "output_type": "execute_result"
    }
   ],
   "source": [
    "df[[\"text\", \"course\"]].tail()"
   ]
  },
  {
   "cell_type": "code",
   "execution_count": 46,
   "id": "great-acceptance",
   "metadata": {},
   "outputs": [
    {
     "data": {
      "text/html": [
       "<div>\n",
       "<style scoped>\n",
       "    .dataframe tbody tr th:only-of-type {\n",
       "        vertical-align: middle;\n",
       "    }\n",
       "\n",
       "    .dataframe tbody tr th {\n",
       "        vertical-align: top;\n",
       "    }\n",
       "\n",
       "    .dataframe thead th {\n",
       "        text-align: right;\n",
       "    }\n",
       "</style>\n",
       "<table border=\"1\" class=\"dataframe\">\n",
       "  <thead>\n",
       "    <tr style=\"text-align: right;\">\n",
       "      <th></th>\n",
       "      <th>text</th>\n",
       "      <th>course</th>\n",
       "    </tr>\n",
       "  </thead>\n",
       "  <tbody>\n",
       "    <tr>\n",
       "      <th>0</th>\n",
       "      <td>짱대첫 번째로 소개드릴 인기 유튜버는 무려 46만 구독자를 보유하고 있는 패션 &amp; ...</td>\n",
       "      <td>짱대첫 번째로 소개드릴 인기 유튜버는 무려 46만 구독자를 보유하고 있는 패션 &amp; ...</td>\n",
       "    </tr>\n",
       "  </tbody>\n",
       "</table>\n",
       "</div>"
      ],
      "text/plain": [
       "                                                text  \\\n",
       "0  짱대첫 번째로 소개드릴 인기 유튜버는 무려 46만 구독자를 보유하고 있는 패션 & ...   \n",
       "\n",
       "                                              course  \n",
       "0  짱대첫 번째로 소개드릴 인기 유튜버는 무려 46만 구독자를 보유하고 있는 패션 & ...  "
      ]
     },
     "execution_count": 46,
     "metadata": {},
     "output_type": "execute_result"
    }
   ],
   "source": [
    "df[[\"text\",\"course\"]].head()\n",
    "#인기 유투버를 안쓴 텍스트는 전체 텍스트를 가져온다\n",
    "#인기 유투버를 쓴 텍스트는 뒤에 있는 것만 가지고 온다."
   ]
  },
  {
   "cell_type": "code",
   "execution_count": 47,
   "id": "controversial-battlefield",
   "metadata": {},
   "outputs": [],
   "source": [
    "#띄워쓰기를 제거한 텍스트에서 키워드를 추출해준다.\n",
    "search_keyword = [\"쇼핑\", \"추천\", \"데일리룩\", \"일상\", \n",
    "                    \"구매 좌표\", \"구매처\", \"인기\" , \"패션\"]\n",
    "\n",
    "for keyword in search_keyword:\n",
    "    df[keyword] = df[\"course\"].str.contains(keyword)\n",
    "\n",
    "#키워드가 들어간다면 true 안들어가면 false로 춣력"
   ]
  },
  {
   "cell_type": "code",
   "execution_count": 48,
   "id": "documentary-director",
   "metadata": {},
   "outputs": [
    {
     "data": {
      "text/html": [
       "<div>\n",
       "<style scoped>\n",
       "    .dataframe tbody tr th:only-of-type {\n",
       "        vertical-align: middle;\n",
       "    }\n",
       "\n",
       "    .dataframe tbody tr th {\n",
       "        vertical-align: top;\n",
       "    }\n",
       "\n",
       "    .dataframe thead th {\n",
       "        text-align: right;\n",
       "    }\n",
       "</style>\n",
       "<table border=\"1\" class=\"dataframe\">\n",
       "  <thead>\n",
       "    <tr style=\"text-align: right;\">\n",
       "      <th></th>\n",
       "      <th>text</th>\n",
       "      <th>origin_text</th>\n",
       "      <th>course</th>\n",
       "      <th>쇼핑</th>\n",
       "      <th>추천</th>\n",
       "      <th>데일리룩</th>\n",
       "      <th>일상</th>\n",
       "      <th>구매 좌표</th>\n",
       "      <th>구매처</th>\n",
       "      <th>인기</th>\n",
       "      <th>패션</th>\n",
       "    </tr>\n",
       "  </thead>\n",
       "  <tbody>\n",
       "    <tr>\n",
       "      <th>0</th>\n",
       "      <td>짱대첫 번째로 소개드릴 인기 유튜버는 무려 46만 구독자를 보유하고 있는 패션 &amp; ...</td>\n",
       "      <td>짱구대디첫 번째로 소개드릴 인기 유튜버는 무려 46만 구독자를 보유하고 있는 패션 ...</td>\n",
       "      <td>짱대첫 번째로 소개드릴 인기 유튜버는 무려 46만 구독자를 보유하고 있는 패션 &amp; ...</td>\n",
       "      <td>False</td>\n",
       "      <td>False</td>\n",
       "      <td>False</td>\n",
       "      <td>False</td>\n",
       "      <td>False</td>\n",
       "      <td>False</td>\n",
       "      <td>True</td>\n",
       "      <td>True</td>\n",
       "    </tr>\n",
       "  </tbody>\n",
       "</table>\n",
       "</div>"
      ],
      "text/plain": [
       "                                                text  \\\n",
       "0  짱대첫 번째로 소개드릴 인기 유튜버는 무려 46만 구독자를 보유하고 있는 패션 & ...   \n",
       "\n",
       "                                         origin_text  \\\n",
       "0  짱구대디첫 번째로 소개드릴 인기 유튜버는 무려 46만 구독자를 보유하고 있는 패션 ...   \n",
       "\n",
       "                                              course     쇼핑     추천   데일리룩  \\\n",
       "0  짱대첫 번째로 소개드릴 인기 유튜버는 무려 46만 구독자를 보유하고 있는 패션 & ...  False  False  False   \n",
       "\n",
       "      일상  구매 좌표    구매처    인기    패션  \n",
       "0  False  False  False  True  True  "
      ]
     },
     "execution_count": 48,
     "metadata": {},
     "output_type": "execute_result"
    }
   ],
   "source": [
    "df.head()\n",
    "\n",
    "#키워드를 통해서 빈도수를 세어 줄 수 있다.\n",
    "#어떤 키워드를 많이 사용하는지도 확인할 수 있다."
   ]
  },
  {
   "cell_type": "code",
   "execution_count": 49,
   "id": "progressive-little",
   "metadata": {},
   "outputs": [
    {
     "data": {
      "text/html": [
       "<div>\n",
       "<style scoped>\n",
       "    .dataframe tbody tr th:only-of-type {\n",
       "        vertical-align: middle;\n",
       "    }\n",
       "\n",
       "    .dataframe tbody tr th {\n",
       "        vertical-align: top;\n",
       "    }\n",
       "\n",
       "    .dataframe thead th {\n",
       "        text-align: right;\n",
       "    }\n",
       "</style>\n",
       "<table border=\"1\" class=\"dataframe\">\n",
       "  <thead>\n",
       "    <tr style=\"text-align: right;\">\n",
       "      <th></th>\n",
       "      <th>text</th>\n",
       "      <th>origin_text</th>\n",
       "      <th>course</th>\n",
       "      <th>쇼핑</th>\n",
       "      <th>추천</th>\n",
       "      <th>데일리룩</th>\n",
       "      <th>일상</th>\n",
       "      <th>구매 좌표</th>\n",
       "      <th>구매처</th>\n",
       "      <th>인기</th>\n",
       "      <th>패션</th>\n",
       "    </tr>\n",
       "  </thead>\n",
       "  <tbody>\n",
       "    <tr>\n",
       "      <th>0</th>\n",
       "      <td>짱대첫 번째로 소개드릴 인기 유튜버는 무려 46만 구독자를 보유하고 있는 패션 &amp; ...</td>\n",
       "      <td>짱구대디첫 번째로 소개드릴 인기 유튜버는 무려 46만 구독자를 보유하고 있는 패션 ...</td>\n",
       "      <td>짱대첫 번째로 소개드릴 인기 유튜버는 무려 46만 구독자를 보유하고 있는 패션 &amp; ...</td>\n",
       "      <td>False</td>\n",
       "      <td>False</td>\n",
       "      <td>False</td>\n",
       "      <td>False</td>\n",
       "      <td>False</td>\n",
       "      <td>False</td>\n",
       "      <td>True</td>\n",
       "      <td>True</td>\n",
       "    </tr>\n",
       "  </tbody>\n",
       "</table>\n",
       "</div>"
      ],
      "text/plain": [
       "                                                text  \\\n",
       "0  짱대첫 번째로 소개드릴 인기 유튜버는 무려 46만 구독자를 보유하고 있는 패션 & ...   \n",
       "\n",
       "                                         origin_text  \\\n",
       "0  짱구대디첫 번째로 소개드릴 인기 유튜버는 무려 46만 구독자를 보유하고 있는 패션 ...   \n",
       "\n",
       "                                              course     쇼핑     추천   데일리룩  \\\n",
       "0  짱대첫 번째로 소개드릴 인기 유튜버는 무려 46만 구독자를 보유하고 있는 패션 & ...  False  False  False   \n",
       "\n",
       "      일상  구매 좌표    구매처    인기    패션  \n",
       "0  False  False  False  True  True  "
      ]
     },
     "execution_count": 49,
     "metadata": {},
     "output_type": "execute_result"
    }
   ],
   "source": [
    "df_python = df[df[\"text\"].str.contains(\"쇼핑|인기|패션\")].copy()\n",
    "df_python.head()\n",
    "#키워드들이 들어간 텍스트들은 df_python이라는 곳에 따로 담아두도록 하였다."
   ]
  },
  {
   "cell_type": "code",
   "execution_count": 50,
   "id": "exact-adams",
   "metadata": {},
   "outputs": [
    {
     "data": {
      "text/plain": [
       "(1, 11)"
      ]
     },
     "execution_count": 50,
     "metadata": {},
     "output_type": "execute_result"
    }
   ],
   "source": [
    "df_python = df[df[\"text\"].str.contains(\"쇼핑|인기|패션\")].copy()\n",
    "df_python.shape\n",
    "#키워드들이 들어간 데이터의 갯수 확인"
   ]
  },
  {
   "cell_type": "code",
   "execution_count": 51,
   "id": "polar-acrylic",
   "metadata": {},
   "outputs": [
    {
     "data": {
      "text/plain": [
       "(1, 11)"
      ]
     },
     "execution_count": 51,
     "metadata": {},
     "output_type": "execute_result"
    }
   ],
   "source": [
    "df.shape\n",
    "#전체 데이터의 갯수"
   ]
  },
  {
   "cell_type": "code",
   "execution_count": 52,
   "id": "pressed-things",
   "metadata": {},
   "outputs": [
    {
     "data": {
      "text/html": [
       "<div>\n",
       "<style scoped>\n",
       "    .dataframe tbody tr th:only-of-type {\n",
       "        vertical-align: middle;\n",
       "    }\n",
       "\n",
       "    .dataframe tbody tr th {\n",
       "        vertical-align: top;\n",
       "    }\n",
       "\n",
       "    .dataframe thead th {\n",
       "        text-align: right;\n",
       "    }\n",
       "</style>\n",
       "<table border=\"1\" class=\"dataframe\">\n",
       "  <thead>\n",
       "    <tr style=\"text-align: right;\">\n",
       "      <th></th>\n",
       "      <th>text</th>\n",
       "      <th>origin_text</th>\n",
       "      <th>course</th>\n",
       "      <th>쇼핑</th>\n",
       "      <th>추천</th>\n",
       "      <th>데일리룩</th>\n",
       "      <th>일상</th>\n",
       "      <th>구매 좌표</th>\n",
       "      <th>구매처</th>\n",
       "      <th>인기</th>\n",
       "      <th>패션</th>\n",
       "    </tr>\n",
       "  </thead>\n",
       "  <tbody>\n",
       "    <tr>\n",
       "      <th>0</th>\n",
       "      <td>짱대첫 번째로 소개드릴 인기 유튜버는 무려 46만 구독자를 보유하고 있는 패션 &amp; ...</td>\n",
       "      <td>짱구대디첫 번째로 소개드릴 인기 유튜버는 무려 46만 구독자를 보유하고 있는 패션 ...</td>\n",
       "      <td>짱대첫 번째로 소개드릴 인기 유튜버는 무려 46만 구독자를 보유하고 있는 패션 &amp; ...</td>\n",
       "      <td>False</td>\n",
       "      <td>False</td>\n",
       "      <td>False</td>\n",
       "      <td>False</td>\n",
       "      <td>False</td>\n",
       "      <td>False</td>\n",
       "      <td>True</td>\n",
       "      <td>True</td>\n",
       "    </tr>\n",
       "  </tbody>\n",
       "</table>\n",
       "</div>"
      ],
      "text/plain": [
       "                                                text  \\\n",
       "0  짱대첫 번째로 소개드릴 인기 유튜버는 무려 46만 구독자를 보유하고 있는 패션 & ...   \n",
       "\n",
       "                                         origin_text  \\\n",
       "0  짱구대디첫 번째로 소개드릴 인기 유튜버는 무려 46만 구독자를 보유하고 있는 패션 ...   \n",
       "\n",
       "                                              course     쇼핑     추천   데일리룩  \\\n",
       "0  짱대첫 번째로 소개드릴 인기 유튜버는 무려 46만 구독자를 보유하고 있는 패션 & ...  False  False  False   \n",
       "\n",
       "      일상  구매 좌표    구매처    인기    패션  \n",
       "0  False  False  False  True  True  "
      ]
     },
     "execution_count": 52,
     "metadata": {},
     "output_type": "execute_result"
    }
   ],
   "source": [
    "df.head()"
   ]
  },
  {
   "cell_type": "code",
   "execution_count": 53,
   "id": "beautiful-hacker",
   "metadata": {},
   "outputs": [
    {
     "data": {
      "text/plain": [
       "쇼핑       0\n",
       "추천       0\n",
       "데일리룩     0\n",
       "일상       0\n",
       "구매 좌표    0\n",
       "구매처      0\n",
       "인기       1\n",
       "패션       1\n",
       "dtype: int64"
      ]
     },
     "execution_count": 53,
     "metadata": {},
     "output_type": "execute_result"
    }
   ],
   "source": [
    "df[search_keyword].sum()\n",
    "#keyword가 들어간 것들의 데이터를 더해준다."
   ]
  },
  {
   "cell_type": "code",
   "execution_count": 55,
   "id": "characteristic-haiti",
   "metadata": {},
   "outputs": [
    {
     "data": {
      "text/plain": [
       "2"
      ]
     },
     "execution_count": 55,
     "metadata": {},
     "output_type": "execute_result"
    }
   ],
   "source": [
    "True + True + False\n",
    "#갯수를 세워준다."
   ]
  },
  {
   "cell_type": "code",
   "execution_count": 54,
   "id": "bottom-adelaide",
   "metadata": {},
   "outputs": [
    {
     "data": {
      "text/html": [
       "<div>\n",
       "<style scoped>\n",
       "    .dataframe tbody tr th:only-of-type {\n",
       "        vertical-align: middle;\n",
       "    }\n",
       "\n",
       "    .dataframe tbody tr th {\n",
       "        vertical-align: top;\n",
       "    }\n",
       "\n",
       "    .dataframe thead th {\n",
       "        text-align: right;\n",
       "    }\n",
       "</style>\n",
       "<table border=\"1\" class=\"dataframe\">\n",
       "  <thead>\n",
       "    <tr style=\"text-align: right;\">\n",
       "      <th></th>\n",
       "      <th>쇼핑</th>\n",
       "      <th>추천</th>\n",
       "      <th>데일리룩</th>\n",
       "      <th>일상</th>\n",
       "      <th>구매 좌표</th>\n",
       "      <th>구매처</th>\n",
       "      <th>인기</th>\n",
       "      <th>패션</th>\n",
       "    </tr>\n",
       "  </thead>\n",
       "  <tbody>\n",
       "    <tr>\n",
       "      <th>0</th>\n",
       "      <td>False</td>\n",
       "      <td>False</td>\n",
       "      <td>False</td>\n",
       "      <td>False</td>\n",
       "      <td>False</td>\n",
       "      <td>False</td>\n",
       "      <td>True</td>\n",
       "      <td>True</td>\n",
       "    </tr>\n",
       "  </tbody>\n",
       "</table>\n",
       "</div>"
      ],
      "text/plain": [
       "      쇼핑     추천   데일리룩     일상  구매 좌표    구매처    인기    패션\n",
       "0  False  False  False  False  False  False  True  True"
      ]
     },
     "execution_count": 54,
     "metadata": {},
     "output_type": "execute_result"
    }
   ],
   "source": [
    "df[search_keyword]\n",
    "#각각의 키워드 별로 true or false로 나타난다."
   ]
  },
  {
   "cell_type": "code",
   "execution_count": 56,
   "id": "corporate-annex",
   "metadata": {},
   "outputs": [
    {
     "data": {
      "text/plain": [
       "인기       1\n",
       "패션       1\n",
       "쇼핑       0\n",
       "추천       0\n",
       "데일리룩     0\n",
       "일상       0\n",
       "구매 좌표    0\n",
       "구매처      0\n",
       "dtype: int64"
      ]
     },
     "execution_count": 56,
     "metadata": {},
     "output_type": "execute_result"
    }
   ],
   "source": [
    "df[search_keyword].sum().sort_values(ascending=False)\n",
    "#내가 보고자 하는 키워드들의 빈도수를 한눈에 확인할 수 있다."
   ]
  },
  {
   "cell_type": "code",
   "execution_count": 57,
   "id": "authentic-narrow",
   "metadata": {},
   "outputs": [
    {
     "name": "stdout",
     "output_type": "stream",
     "text": [
      "---------------------------------------------\n",
      "짱대첫 번째로 소개드릴 인기 유튜버는 무려 46만 구독자를 보유하고 있는 패션 & 리뷰 & 남친룩을 전문적으로 다루는 패션 유튜버짱구 대디에요!짱대는 이번 영상에서 \"신사동에 있는 커버낫 매장 뿌수고...\n"
     ]
    }
   ],
   "source": [
    "#df에서 \"인기\"가 true인 것만 가져와서 확인해보자\n",
    "text = df.loc[(df[\"인기\"] == True), \"text\"]\n",
    "for t in text:\n",
    "    print(\"-\"*45)\n",
    "    print(t)"
   ]
  },
  {
   "cell_type": "code",
   "execution_count": 59,
   "id": "unexpected-huntington",
   "metadata": {},
   "outputs": [
    {
     "data": {
      "text/plain": [
       "0    짱대첫 번째로 소개드릴 인기 유튜버는 무려 46만 구독자를 보유하고 있는 패션 & ...\n",
       "Name: text, dtype: object"
      ]
     },
     "execution_count": 59,
     "metadata": {},
     "output_type": "execute_result"
    }
   ],
   "source": [
    "#\"패션\"만 들어가는 텍스트만 찾기\n",
    "df.loc[df[\"패션\"] == True, \"text\"]"
   ]
  },
  {
   "cell_type": "code",
   "execution_count": null,
   "id": "thermal-resistance",
   "metadata": {},
   "outputs": [],
   "source": [
    "#metaplotlib로 시각화를 진행해주려고 하였지만 완성하지 못하였습니다."
   ]
  }
 ],
 "metadata": {
  "kernelspec": {
   "display_name": "Python 3",
   "language": "python",
   "name": "python3"
  },
  "language_info": {
   "codemirror_mode": {
    "name": "ipython",
    "version": 3
   },
   "file_extension": ".py",
   "mimetype": "text/x-python",
   "name": "python",
   "nbconvert_exporter": "python",
   "pygments_lexer": "ipython3",
   "version": "3.8.8"
  }
 },
 "nbformat": 4,
 "nbformat_minor": 5
}
