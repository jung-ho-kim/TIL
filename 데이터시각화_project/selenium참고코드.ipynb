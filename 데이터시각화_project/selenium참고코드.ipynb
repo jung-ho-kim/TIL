{
 "cells": [
  {
   "cell_type": "code",
   "execution_count": 130,
   "metadata": {},
   "outputs": [],
   "source": [
    "import json\n",
    "import folium\n",
    "import numpy as np\n",
    "import pandas as pd\n",
    "import googlemaps\n",
    "import matplotlib.pyplot as plt\n",
    "import os\n",
    "from folium.plugins import MarkerCluster\n",
    "\n",
    "from bs4 import BeautifulSoup\n",
    "import requests\n",
    "import time\n",
    "\n",
    "import warnings\n",
    "warnings.filterwarnings(\"ignore\")"
   ]
  },
  {
   "cell_type": "code",
   "execution_count": 51,
   "metadata": {},
   "outputs": [],
   "source": [
    "df_seoul = pd.read_csv(\"C:\\\\Users\\\\MINHO\\\\education\\\\MC python\\\\projectdata\\\\df_seoul(euc-kr).csv\", encoding=\"euc-kr\")\n",
    "df_info25 = pd.read_csv(\"C:\\\\Users\\\\MINHO\\\\education\\\\MC python\\\\projectdata\\\\df_rest25_dense(euc-kr).csv\", encoding=\"euc-kr\")"
   ]
  },
  {
   "cell_type": "raw",
   "metadata": {},
   "source": [
    "df_seoul.to_csv(\"C:\\\\Users\\\\MINHO\\\\education\\\\MC python\\\\projectdata\\\\df_seoul.csv\", index=False)"
   ]
  },
  {
   "cell_type": "code",
   "execution_count": null,
   "metadata": {
    "collapsed": true,
    "jupyter": {
     "outputs_hidden": true
    }
   },
   "outputs": [],
   "source": [
    "from selenium import webdriver\n",
    "from selenium.webdriver.common.keys import Keys\n",
    "from selenium.webdriver.support.ui import WebDriverWait\n",
    "from selenium.webdriver.support import expected_conditions as EC\n",
    "from selenium.common.exceptions import TimeoutException\n",
    "from selenium.common.exceptions import NoSuchElementException\n",
    "from selenium.webdriver.common.by import By\n",
    "from selenium.webdriver.support.ui import Select\n",
    "import time\n",
    "\n",
    "\n",
    "chromedriver = '/Users/datakim/workspace/selenium_learning/chromedriver' \n",
    "driver = webdriver.Chrome(executable_path=\"chromedriver.exe\")\n",
    "\n",
    "\n",
    "df_seoul['kakao_keyword'] = df_seoul['구'] + \"%20\" + df_seoul['업소명']\n",
    "df_seoul['kakao_map_url'] = ''\n",
    "\n",
    "\n",
    "for i, keyword in enumerate(df_seoul['kakao_keyword'].tolist()):\n",
    "    print(i, f\"/ {df_seoul.shape[0]} 행\", keyword)\n",
    "    try:\n",
    "        kakao_map_search_url = f\"https://map.kakao.com/?q={keyword}\"\n",
    "        driver.get(kakao_map_search_url)\n",
    "        time.sleep(3.5)\n",
    "        df_seoul.iloc[i,-1] = driver.find_element_by_css_selector(\"#info\\.search\\.place\\.list > li:nth-child(1) > div.info_item > div.contact.clickArea > a.moreview\").get_attribute('href')\n",
    "    except Exception as e1:\n",
    "        if \"li:nth-child(1)\" in str(e1):\n",
    "            try:\n",
    "                df_seoul.iloc[i,-1] = driver.find_element_by_css_selector(\"#info\\.search\\.place\\.list > li > div.info_item > div.contact.clickArea > a.moreview\").get_attribute('href')\n",
    "                time.sleep(1)\n",
    "            except Exception as e2:\n",
    "                print(e2)\n",
    "                df_seoul.iloc[i,-1] = np.nan\n",
    "                time.sleep(1)\n",
    "        else:\n",
    "            pass    "
   ]
  },
  {
   "cell_type": "code",
   "execution_count": null,
   "metadata": {
    "collapsed": true,
    "jupyter": {
     "outputs_hidden": true
    }
   },
   "outputs": [],
   "source": [
    "from tqdm.notebook import tqdm_notebook\n",
    "\n",
    "blog_review_list = []\n",
    "\n",
    "for i, url in enumerate(tqdm_notebook(df_seoul['kakao_map_url'])):\n",
    "    if i < 1040:\n",
    "        continue\n",
    "    driver = webdriver.Chrome(executable_path=\"chromedriver.exe\")\n",
    "    print(i, url)\n",
    "        \n",
    "    driver.get(url)\n",
    "    time.sleep(1)\n",
    "    review_text = \"\"\n",
    "    \n",
    "    try:\n",
    "        \n",
    "        kakao_map_name = driver.find_element_by_css_selector(\"#mArticle > div.cont_essential > div:nth-child(1) > div.place_details > div > h2\").text\n",
    "        blog_review_qty = driver.find_element_by_css_selector(\"#mArticle > div.cont_essential > div:nth-child(1) > div.place_details > div > div > a:nth-child(5) > span\").text\n",
    "    except Exception as e1:\n",
    "        if \"inactive\" in str(e1):\n",
    "            print(\"크롤링 문제 발생\")\n",
    "            \n",
    "    num = 0\n",
    "    try:\n",
    "        while num < 3:\n",
    "            try:\n",
    "                num += 1\n",
    "                review_text = review_text + driver.find_element_by_css_selector(f\"div.wrap_list > ul > li:nth-child({num}) > a > div.review_story > p\").text\n",
    "                \n",
    "                if num == 3:\n",
    "                    blog_review_list.append(review_text)\n",
    "                    kakao_map_name_list.append(kakao_map_name)\n",
    "                    break\n",
    "            except Exception as e1:\n",
    "                if \"li:nth-child(1)\" in str(e1):\n",
    "                    print(f\"{i}행 리뷰없음\")\n",
    "                    review_text = \"empty\"\n",
    "                    blog_review_list.append(review_text)\n",
    "                    kakao_map_name_list.append(kakao_map_name)\n",
    "                    break\n",
    "                else:\n",
    "                    print(f\"{i}행 문제 발생 - 총 리뷰 {num - 1}개\")\n",
    "                    blog_review_list.append(review_text)     \n",
    "                    kakao_map_name_list.append(kakao_map_name)\n",
    "                    break\n",
    "                \n",
    "    except Exception as e2:\n",
    "        print(e2)\n",
    "        print(f\"{i}행 문제 발생\")\n",
    "    driver.quit()\n",
    "\n",
    "\n",
    "df_seoul['리뷰내용'] = blog_review_list"
   ]
  },
  {
   "cell_type": "code",
   "execution_count": null,
   "metadata": {},
   "outputs": [],
   "source": []
  }
 ],
 "metadata": {
  "kernelspec": {
   "display_name": "Python 3",
   "language": "python",
   "name": "python3"
  },
  "language_info": {
   "codemirror_mode": {
    "name": "ipython",
    "version": 3
   },
   "file_extension": ".py",
   "mimetype": "text/x-python",
   "name": "python",
   "nbconvert_exporter": "python",
   "pygments_lexer": "ipython3",
   "version": "3.7.6"
  }
 },
 "nbformat": 4,
 "nbformat_minor": 4
}
