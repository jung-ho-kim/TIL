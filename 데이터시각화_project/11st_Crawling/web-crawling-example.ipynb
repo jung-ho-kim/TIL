{
 "cells": [
  {
   "cell_type": "markdown",
   "metadata": {},
   "source": [
    "# 웹 크롤링 selenium 사용 예"
   ]
  },
  {
   "cell_type": "code",
   "execution_count": 1,
   "metadata": {},
   "outputs": [],
   "source": [
    "# 라이브러리 불러오기\n",
    "import pandas as pd\n",
    "from selenium import webdriver\n",
    "import time\n",
    "import math"
   ]
  },
  {
   "cell_type": "code",
   "execution_count": 2,
   "metadata": {},
   "outputs": [],
   "source": [
    "# 초기 설정\n",
    "\n",
    "# 블루베리 시나몬 플렉스 시리얼\n",
    "url = \"https://www.11st.co.kr/browsing/BestSeller.tmall?method=getBestSellerMain&xfrom=main^gnb\"\n",
    "\n",
    "# 페이지 넘길 경우 이미지 등 화면 불러오기 기다리는 시간 단위:초\n",
    "# 컴퓨터나 네트워크 상황에 따라 너무 빨리 데이터를 가져오면 에러가 발생함. 이런 경우 시간을 늘려야 함.\n",
    "interval = 2 \n",
    "\n",
    "# 데이터를 담을 리스트\n",
    "data_list = []\n"
   ]
  },
  {
   "cell_type": "code",
   "execution_count": 3,
   "metadata": {},
   "outputs": [],
   "source": [
    "# 크롬 웹드라이버\n",
    "driver = webdriver.Chrome(\"C:\\\\Users\\\\junhk\\\\TIL\\\\데이터시각화_project\\\\webdriver\\\\chromedriver.exe\")  \n",
    "driver.get(url)   "
   ]
  },
  {
   "cell_type": "code",
   "execution_count": 4,
   "metadata": {},
   "outputs": [],
   "source": [
    "# 상품평 클릭 상품상세에서 상품평으로 이동함. \n",
    "driver.find_element_by_css_selector('#thisClick_3653971599 > div > a > div.img_plot').click()\n",
    "time.sleep(interval)"
   ]
  },
  {
   "cell_type": "code",
   "execution_count": 5,
   "metadata": {},
   "outputs": [
    {
     "ename": "NoSuchElementException",
     "evalue": "Message: no such element: Unable to locate element: {\"method\":\"css selector\",\"selector\":\".sdp-review__average__total-star__info-count\"}\n  (Session info: chrome=91.0.4472.124)\n",
     "output_type": "error",
     "traceback": [
      "\u001b[1;31m---------------------------------------------------------------------------\u001b[0m",
      "\u001b[1;31mNoSuchElementException\u001b[0m                    Traceback (most recent call last)",
      "\u001b[1;32m<ipython-input-5-1965be4ce128>\u001b[0m in \u001b[0;36m<module>\u001b[1;34m\u001b[0m\n\u001b[0;32m      1\u001b[0m \u001b[1;31m# 총 리뷰수 확인\u001b[0m\u001b[1;33m\u001b[0m\u001b[1;33m\u001b[0m\u001b[1;33m\u001b[0m\u001b[0m\n\u001b[1;32m----> 2\u001b[1;33m \u001b[0mreview_total\u001b[0m \u001b[1;33m=\u001b[0m \u001b[0mdriver\u001b[0m\u001b[1;33m.\u001b[0m\u001b[0mfind_element_by_css_selector\u001b[0m\u001b[1;33m(\u001b[0m\u001b[1;34m'.sdp-review__average__total-star__info-count'\u001b[0m\u001b[1;33m)\u001b[0m\u001b[1;33m.\u001b[0m\u001b[0mtext\u001b[0m\u001b[1;33m\u001b[0m\u001b[1;33m\u001b[0m\u001b[0m\n\u001b[0m\u001b[0;32m      3\u001b[0m \u001b[0mreview_total\u001b[0m \u001b[1;33m=\u001b[0m \u001b[0mreview_total\u001b[0m\u001b[1;33m.\u001b[0m\u001b[0mreplace\u001b[0m\u001b[1;33m(\u001b[0m\u001b[1;34m\",\"\u001b[0m\u001b[1;33m,\u001b[0m \u001b[1;34m\"\"\u001b[0m\u001b[1;33m)\u001b[0m\u001b[1;33m\u001b[0m\u001b[1;33m\u001b[0m\u001b[0m\n\u001b[0;32m      4\u001b[0m \u001b[0mreview_total\u001b[0m\u001b[1;33m\u001b[0m\u001b[1;33m\u001b[0m\u001b[0m\n",
      "\u001b[1;32m~\\anaconda3\\envs\\multi\\lib\\site-packages\\selenium\\webdriver\\remote\\webdriver.py\u001b[0m in \u001b[0;36mfind_element_by_css_selector\u001b[1;34m(self, css_selector)\u001b[0m\n\u001b[0;32m    596\u001b[0m             \u001b[0melement\u001b[0m \u001b[1;33m=\u001b[0m \u001b[0mdriver\u001b[0m\u001b[1;33m.\u001b[0m\u001b[0mfind_element_by_css_selector\u001b[0m\u001b[1;33m(\u001b[0m\u001b[1;34m'#foo'\u001b[0m\u001b[1;33m)\u001b[0m\u001b[1;33m\u001b[0m\u001b[1;33m\u001b[0m\u001b[0m\n\u001b[0;32m    597\u001b[0m         \"\"\"\n\u001b[1;32m--> 598\u001b[1;33m         \u001b[1;32mreturn\u001b[0m \u001b[0mself\u001b[0m\u001b[1;33m.\u001b[0m\u001b[0mfind_element\u001b[0m\u001b[1;33m(\u001b[0m\u001b[0mby\u001b[0m\u001b[1;33m=\u001b[0m\u001b[0mBy\u001b[0m\u001b[1;33m.\u001b[0m\u001b[0mCSS_SELECTOR\u001b[0m\u001b[1;33m,\u001b[0m \u001b[0mvalue\u001b[0m\u001b[1;33m=\u001b[0m\u001b[0mcss_selector\u001b[0m\u001b[1;33m)\u001b[0m\u001b[1;33m\u001b[0m\u001b[1;33m\u001b[0m\u001b[0m\n\u001b[0m\u001b[0;32m    599\u001b[0m \u001b[1;33m\u001b[0m\u001b[0m\n\u001b[0;32m    600\u001b[0m     \u001b[1;32mdef\u001b[0m \u001b[0mfind_elements_by_css_selector\u001b[0m\u001b[1;33m(\u001b[0m\u001b[0mself\u001b[0m\u001b[1;33m,\u001b[0m \u001b[0mcss_selector\u001b[0m\u001b[1;33m)\u001b[0m\u001b[1;33m:\u001b[0m\u001b[1;33m\u001b[0m\u001b[1;33m\u001b[0m\u001b[0m\n",
      "\u001b[1;32m~\\anaconda3\\envs\\multi\\lib\\site-packages\\selenium\\webdriver\\remote\\webdriver.py\u001b[0m in \u001b[0;36mfind_element\u001b[1;34m(self, by, value)\u001b[0m\n\u001b[0;32m    976\u001b[0m         return self.execute(Command.FIND_ELEMENT, {\n\u001b[0;32m    977\u001b[0m             \u001b[1;34m'using'\u001b[0m\u001b[1;33m:\u001b[0m \u001b[0mby\u001b[0m\u001b[1;33m,\u001b[0m\u001b[1;33m\u001b[0m\u001b[1;33m\u001b[0m\u001b[0m\n\u001b[1;32m--> 978\u001b[1;33m             'value': value})['value']\n\u001b[0m\u001b[0;32m    979\u001b[0m \u001b[1;33m\u001b[0m\u001b[0m\n\u001b[0;32m    980\u001b[0m     \u001b[1;32mdef\u001b[0m \u001b[0mfind_elements\u001b[0m\u001b[1;33m(\u001b[0m\u001b[0mself\u001b[0m\u001b[1;33m,\u001b[0m \u001b[0mby\u001b[0m\u001b[1;33m=\u001b[0m\u001b[0mBy\u001b[0m\u001b[1;33m.\u001b[0m\u001b[0mID\u001b[0m\u001b[1;33m,\u001b[0m \u001b[0mvalue\u001b[0m\u001b[1;33m=\u001b[0m\u001b[1;32mNone\u001b[0m\u001b[1;33m)\u001b[0m\u001b[1;33m:\u001b[0m\u001b[1;33m\u001b[0m\u001b[1;33m\u001b[0m\u001b[0m\n",
      "\u001b[1;32m~\\anaconda3\\envs\\multi\\lib\\site-packages\\selenium\\webdriver\\remote\\webdriver.py\u001b[0m in \u001b[0;36mexecute\u001b[1;34m(self, driver_command, params)\u001b[0m\n\u001b[0;32m    319\u001b[0m         \u001b[0mresponse\u001b[0m \u001b[1;33m=\u001b[0m \u001b[0mself\u001b[0m\u001b[1;33m.\u001b[0m\u001b[0mcommand_executor\u001b[0m\u001b[1;33m.\u001b[0m\u001b[0mexecute\u001b[0m\u001b[1;33m(\u001b[0m\u001b[0mdriver_command\u001b[0m\u001b[1;33m,\u001b[0m \u001b[0mparams\u001b[0m\u001b[1;33m)\u001b[0m\u001b[1;33m\u001b[0m\u001b[1;33m\u001b[0m\u001b[0m\n\u001b[0;32m    320\u001b[0m         \u001b[1;32mif\u001b[0m \u001b[0mresponse\u001b[0m\u001b[1;33m:\u001b[0m\u001b[1;33m\u001b[0m\u001b[1;33m\u001b[0m\u001b[0m\n\u001b[1;32m--> 321\u001b[1;33m             \u001b[0mself\u001b[0m\u001b[1;33m.\u001b[0m\u001b[0merror_handler\u001b[0m\u001b[1;33m.\u001b[0m\u001b[0mcheck_response\u001b[0m\u001b[1;33m(\u001b[0m\u001b[0mresponse\u001b[0m\u001b[1;33m)\u001b[0m\u001b[1;33m\u001b[0m\u001b[1;33m\u001b[0m\u001b[0m\n\u001b[0m\u001b[0;32m    322\u001b[0m             response['value'] = self._unwrap_value(\n\u001b[0;32m    323\u001b[0m                 response.get('value', None))\n",
      "\u001b[1;32m~\\anaconda3\\envs\\multi\\lib\\site-packages\\selenium\\webdriver\\remote\\errorhandler.py\u001b[0m in \u001b[0;36mcheck_response\u001b[1;34m(self, response)\u001b[0m\n\u001b[0;32m    240\u001b[0m                 \u001b[0malert_text\u001b[0m \u001b[1;33m=\u001b[0m \u001b[0mvalue\u001b[0m\u001b[1;33m[\u001b[0m\u001b[1;34m'alert'\u001b[0m\u001b[1;33m]\u001b[0m\u001b[1;33m.\u001b[0m\u001b[0mget\u001b[0m\u001b[1;33m(\u001b[0m\u001b[1;34m'text'\u001b[0m\u001b[1;33m)\u001b[0m\u001b[1;33m\u001b[0m\u001b[1;33m\u001b[0m\u001b[0m\n\u001b[0;32m    241\u001b[0m             \u001b[1;32mraise\u001b[0m \u001b[0mexception_class\u001b[0m\u001b[1;33m(\u001b[0m\u001b[0mmessage\u001b[0m\u001b[1;33m,\u001b[0m \u001b[0mscreen\u001b[0m\u001b[1;33m,\u001b[0m \u001b[0mstacktrace\u001b[0m\u001b[1;33m,\u001b[0m \u001b[0malert_text\u001b[0m\u001b[1;33m)\u001b[0m\u001b[1;33m\u001b[0m\u001b[1;33m\u001b[0m\u001b[0m\n\u001b[1;32m--> 242\u001b[1;33m         \u001b[1;32mraise\u001b[0m \u001b[0mexception_class\u001b[0m\u001b[1;33m(\u001b[0m\u001b[0mmessage\u001b[0m\u001b[1;33m,\u001b[0m \u001b[0mscreen\u001b[0m\u001b[1;33m,\u001b[0m \u001b[0mstacktrace\u001b[0m\u001b[1;33m)\u001b[0m\u001b[1;33m\u001b[0m\u001b[1;33m\u001b[0m\u001b[0m\n\u001b[0m\u001b[0;32m    243\u001b[0m \u001b[1;33m\u001b[0m\u001b[0m\n\u001b[0;32m    244\u001b[0m     \u001b[1;32mdef\u001b[0m \u001b[0m_value_or_default\u001b[0m\u001b[1;33m(\u001b[0m\u001b[0mself\u001b[0m\u001b[1;33m,\u001b[0m \u001b[0mobj\u001b[0m\u001b[1;33m,\u001b[0m \u001b[0mkey\u001b[0m\u001b[1;33m,\u001b[0m \u001b[0mdefault\u001b[0m\u001b[1;33m)\u001b[0m\u001b[1;33m:\u001b[0m\u001b[1;33m\u001b[0m\u001b[1;33m\u001b[0m\u001b[0m\n",
      "\u001b[1;31mNoSuchElementException\u001b[0m: Message: no such element: Unable to locate element: {\"method\":\"css selector\",\"selector\":\".sdp-review__average__total-star__info-count\"}\n  (Session info: chrome=91.0.4472.124)\n"
     ]
    }
   ],
   "source": [
    "# 총 리뷰수 확인\n",
    "review_total = driver.find_element_by_css_selector('.sdp-review__average__total-star__info-count').text\n",
    "review_total = review_total.replace(\",\", \"\")\n",
    "review_total"
   ]
  },
  {
   "cell_type": "code",
   "execution_count": null,
   "metadata": {},
   "outputs": [],
   "source": [
    "#페이지별 리뷰 개수\n",
    "review_per_page = 5\n",
    "\n",
    "# 전체 페이지 수 계산 리뷰가 9개 일 경우 페이지수는 9 / 5 = 1.8이 나옴\n",
    "total_page = int(review_total) / review_per_page\n",
    "\n",
    "# 리뷰가 9개 일 경우 페이지수는 9 / 5 = 1.8 -> 2페이지 올림해야 함. 올림은 ceil\n",
    "total_page = math.ceil(total_page)\n",
    "\n",
    "total_page "
   ]
  },
  {
   "cell_type": "code",
   "execution_count": null,
   "metadata": {},
   "outputs": [],
   "source": [
    "# 상품명 확인\n",
    "product = driver.find_element_by_css_selector('.prod-buy-header__title').text\n",
    "product"
   ]
  },
  {
   "cell_type": "code",
   "execution_count": null,
   "metadata": {},
   "outputs": [],
   "source": [
    "# 사용자명과 평점 수집 함수 정의\n",
    "def get_page_data():\n",
    "\n",
    "    # 사용자명 수집\n",
    "    users = driver.find_elements_by_css_selector('.sdp-review__article__list__info__user__name.js_reviewUserProfileImage')\n",
    "    \n",
    "    # 평점 수집\n",
    "    ratings = driver.find_elements_by_css_selector('.sdp-review__article__list__info__product-info__star-orange.js_reviewArticleRatingValue')\n",
    "        \n",
    "    # 사용자명수와 평점수가 같을 경우만 수집\n",
    "    if len(users) == len(ratings):            \n",
    "        for index in range(len(users)):\n",
    "            data = {}\n",
    "            data['username'] = users[index].text\n",
    "            data['rating'] = int(ratings[index].get_attribute('data-rating'))\n",
    "            print(data)\n",
    "            data_list.append(data)        \n"
   ]
  },
  {
   "cell_type": "code",
   "execution_count": null,
   "metadata": {},
   "outputs": [],
   "source": [
    "print(\"수집 시작\")\n",
    "\n",
    "# 첫 페이지 수집하고 시작\n",
    "get_page_data() \n",
    "\n",
    "# 버튼을 눌러서 페이지를 이동해 가면서 계속 수집.\n",
    "# 예외처리를 해줘야 함. 하지 않으면 중지됨.\n",
    "for page in range(1, total_page):\n",
    "    try:\n",
    "        print(str(page) + \" page 수집 끝\")\n",
    "\n",
    "        button_index = page % 10 + 2\n",
    "\n",
    "        # 데이터 수집이 끝난 뒤 다음 페이지 버튼을 클릭\n",
    "        driver.find_element_by_xpath('//*[@id=\"btfTab\"]/ul[2]/li[2]/div/div[5]/section[4]/div[3]/button[' + str(button_index) +']').click()\n",
    "        time.sleep(interval)\n",
    "\n",
    "        #1 0page 수집이 끝나서 11로 넘어가기 위해서는 > 버튼을 눌러야 함.\n",
    "        if(page % 10 == 0):\n",
    "            driver.find_element_by_xpath('//*[@id=\"btfTab\"]/ul[2]/li[2]/div/div[5]/section[4]/div[3]/button[12]').click()\n",
    "            time.sleep(interval)\n",
    "\n",
    "        # 해당 페이지 데이터 수집 \n",
    "        get_page_data()\n",
    "    except:\n",
    "        print(\"수집 에러\")\n",
    "\n",
    "print(str(page) + \" page 수집 끝\")\n",
    "print(\"수집 종료\")"
   ]
  },
  {
   "cell_type": "code",
   "execution_count": null,
   "metadata": {},
   "outputs": [],
   "source": [
    "df = pd.DataFrame(data_list)\n",
    "df       "
   ]
  },
  {
   "cell_type": "code",
   "execution_count": null,
   "metadata": {},
   "outputs": [],
   "source": [
    "# 엑셀로 저장\n",
    "df.to_excel(\"coupang-crawling-example.xlsx\")"
   ]
  },
  {
   "cell_type": "markdown",
   "metadata": {},
   "source": [
    "# 전체 코드"
   ]
  },
  {
   "cell_type": "code",
   "execution_count": null,
   "metadata": {},
   "outputs": [],
   "source": [
    "# 라이브러리 불러오기\n",
    "import pandas as pd\n",
    "from selenium import webdriver\n",
    "import time\n",
    "import math\n",
    "\n",
    "# 초기 설정\n",
    "\n",
    "# 블루베리 시나몬 플렉스 시리얼\n",
    "url = \"https://www.coupang.com/vp/products/29528864?vendorItemId=3222696681&sourceType=SDP_ALSO_VIEWED&rmdId=e4655b075bca4d43a084d2fc95cb46d8&eventLabel=recommendation_widget_pc_sdp_001&platform=web&rmdABTestInfo=9266:C,10242:C,8534:A,8088:A,8091:A,9437:A&rmdValue=p1421463742:vt-1.0.0:p29528864&isAddedCart=\"\n",
    "\n",
    "# 페이지 넘길 경우 이미지 등 화면 불러오기 기다리는 시간 단위:초\n",
    "# 컴퓨터나 네트워크 상황에 따라 너무 빨리 데이터를 가져오면 에러가 발생함. 이런 경우 시간을 늘려야 함.\n",
    "interval = 2 \n",
    "\n",
    "# 데이터를 담을 리스트\n",
    "data_list = []\n",
    "\n",
    "# 크롬 웹드라이버\n",
    "driver = webdriver.Chrome(\"./chromedriver\")  \n",
    "driver.get(url)   \n",
    "time.sleep(interval)\n",
    "\n",
    "# 상품평 클릭 상품상세에서 상품평으로 이동함. \n",
    "driver.find_element_by_css_selector('.count').click()\n",
    "time.sleep(interval)\n",
    "\n",
    "# 총 리뷰수 확인\n",
    "review_total = driver.find_element_by_css_selector('.sdp-review__average__total-star__info-count').text\n",
    "review_total = review_total.replace(\",\", \"\")\n",
    "print(review_total)\n",
    "\n",
    "#페이지별 리뷰 개수\n",
    "review_per_page = 5\n",
    "\n",
    "# 전체 페이지 수 계산 리뷰가 9개 일 경우 페이지수는 9 / 5 = 1.8이 나옴\n",
    "total_page = int(review_total) / review_per_page\n",
    "\n",
    "# 리뷰가 9개 일 경우 페이지수는 9 / 5 = 1.8 -> 2페이지 올림해야 함. 올림은 ceil\n",
    "total_page = math.ceil(total_page)\n",
    "print(total_page)\n",
    "\n",
    "# 상품명 확인\n",
    "product = driver.find_element_by_css_selector('.prod-buy-header__title').text\n",
    "print(product)\n",
    "\n",
    "# 사용자명과 평점 수집 함수 정의\n",
    "def get_page_data():\n",
    "\n",
    "    # 사용자명 수집\n",
    "    users = driver.find_elements_by_css_selector('.sdp-review__article__list__info__user__name.js_reviewUserProfileImage')\n",
    "    \n",
    "    # 평점 수집\n",
    "    ratings = driver.find_elements_by_css_selector('.sdp-review__article__list__info__product-info__star-orange.js_reviewArticleRatingValue')\n",
    "        \n",
    "    # 사용자명수와 평점수가 같을 경우만 수집\n",
    "    if len(users) == len(ratings):            \n",
    "        for index in range(len(users)):\n",
    "            data = {}\n",
    "            data['username'] = users[index].text\n",
    "            data['rating'] = int(ratings[index].get_attribute('data-rating'))\n",
    "            print(data)\n",
    "            data_list.append(data)\n",
    "            \n",
    "print(\"수집 시작\")\n",
    "\n",
    "# 첫 페이지 수집하고 시작\n",
    "get_page_data() \n",
    "\n",
    "# 버튼을 눌러서 페이지를 이동해 가면서 계속 수집.\n",
    "# 예외처리를 해줘야 함. 하지 않으면 중지됨.\n",
    "for page in range(1, total_page):\n",
    "    try:\n",
    "        print(str(page) + \" page 수집 끝\")\n",
    "\n",
    "        button_index = page % 10 + 2\n",
    "\n",
    "        # 데이터 수집이 끝난 뒤 다음 페이지 버튼을 클릭\n",
    "        driver.find_element_by_xpath('//*[@id=\"btfTab\"]/ul[2]/li[2]/div/div[5]/section[4]/div[3]/button[' + str(button_index) +']').click()\n",
    "        time.sleep(interval)\n",
    "\n",
    "        #1 0page 수집이 끝나서 11로 넘어가기 위해서는 > 버튼을 눌러야 함.\n",
    "        if(page % 10 == 0):\n",
    "            driver.find_element_by_xpath('//*[@id=\"btfTab\"]/ul[2]/li[2]/div/div[5]/section[4]/div[3]/button[12]').click()\n",
    "            time.sleep(interval)\n",
    "\n",
    "        # 해당 페이지 데이터 수집 \n",
    "        get_page_data()\n",
    "    except:\n",
    "        print(\"수집 에러\")\n",
    "\n",
    "print(str(page) + \" page 수집 끝\")\n",
    "print(\"수집 종료\")\n",
    "    \n",
    "df = pd.DataFrame(data_list)\n",
    "print(df)\n",
    "\n",
    "# 엑셀로 저장\n",
    "df.to_excel(\"coupang-crawling-example.xlsx\")\n",
    "\n"
   ]
  },
  {
   "cell_type": "code",
   "execution_count": null,
   "metadata": {},
   "outputs": [],
   "source": []
  }
 ],
 "metadata": {
  "kernelspec": {
   "display_name": "Python Multi",
   "language": "python",
   "name": "multi"
  },
  "language_info": {
   "codemirror_mode": {
    "name": "ipython",
    "version": 3
   },
   "file_extension": ".py",
   "mimetype": "text/x-python",
   "name": "python",
   "nbconvert_exporter": "python",
   "pygments_lexer": "ipython3",
   "version": "3.7.6"
  },
  "varInspector": {
   "cols": {
    "lenName": 16,
    "lenType": 16,
    "lenVar": 40
   },
   "kernels_config": {
    "python": {
     "delete_cmd_postfix": "",
     "delete_cmd_prefix": "del ",
     "library": "var_list.py",
     "varRefreshCmd": "print(var_dic_list())"
    },
    "r": {
     "delete_cmd_postfix": ") ",
     "delete_cmd_prefix": "rm(",
     "library": "var_list.r",
     "varRefreshCmd": "cat(var_dic_list()) "
    }
   },
   "types_to_exclude": [
    "module",
    "function",
    "builtin_function_or_method",
    "instance",
    "_Feature"
   ],
   "window_display": false
  }
 },
 "nbformat": 4,
 "nbformat_minor": 4
}
