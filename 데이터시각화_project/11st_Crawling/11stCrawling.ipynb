{
 "cells": [
  {
   "cell_type": "code",
   "execution_count": null,
   "id": "3c1aa0d7-0fdc-4c9e-9a3b-8e6fdc97033e",
   "metadata": {},
   "outputs": [],
   "source": []
  },
  {
   "cell_type": "code",
   "execution_count": 1,
   "id": "91f08435-8511-4ad3-9b8f-24bf5e519c83",
   "metadata": {},
   "outputs": [],
   "source": [
    "from selenium import webdriver as wd\n",
    "from bs4 import BeautifulSoup as bs\n",
    "from selenium.webdriver.common.by import By\n",
    "# 명시적 대기를 위해 \n",
    "from selenium.webdriver.support.ui import WebDriverWait\n",
    "from selenium.webdriver.support import expected_conditions as EC\n",
    "\n",
    "import time"
   ]
  },
  {
   "cell_type": "code",
   "execution_count": 2,
   "id": "3455e53c-b779-4c1a-96cb-f82f4c3c8c07",
   "metadata": {
    "tags": []
   },
   "outputs": [],
   "source": [
    "main_url = 'https://www.11st.co.kr/browsing/BestSeller.tmall?method=getBestSellerMain&xfrom=main^gnb'\n",
    "review_list = []"
   ]
  },
  {
   "cell_type": "code",
   "execution_count": 3,
   "id": "d35fed1d-24b6-4bce-bb14-36d34a70ad37",
   "metadata": {},
   "outputs": [],
   "source": [
    "# 윈도우용\n",
    "driver = wd.Chrome(executable_path='C:\\\\Users\\\\junhk\\\\TIL\\\\데이터시각화_project\\\\webdriver\\\\chromedriver.exe')"
   ]
  },
  {
   "cell_type": "code",
   "execution_count": 4,
   "id": "b7409d93-d328-4530-a2a0-4659befec347",
   "metadata": {},
   "outputs": [],
   "source": [
    "# 사이트 접속 (get)\n",
    "driver.get(main_url)\n",
    "# 검색창을 찾아서 검색어 입력"
   ]
  },
  {
   "cell_type": "code",
   "execution_count": 5,
   "id": "88c03505-9497-4b17-9632-f6b6718ba7c3",
   "metadata": {},
   "outputs": [],
   "source": [
    "time.sleep(1)\n",
    "driver.find_element_by_css_selector('#thisClick_3112406017 > div > a > div.img_plot').click()"
   ]
  },
  {
   "cell_type": "code",
   "execution_count": 6,
   "id": "e69aa3af-7165-487e-918c-dfed150b3a71",
   "metadata": {},
   "outputs": [],
   "source": [
    "time.sleep(1)\n",
    "driver.execute_script(\"window.scrollTo(0, 5000);\")"
   ]
  },
  {
   "cell_type": "code",
   "execution_count": 7,
   "id": "1c271460-92c1-4ae7-8914-729937c42b51",
   "metadata": {},
   "outputs": [],
   "source": [
    "time.sleep(1)\n",
    "driver.find_element_by_css_selector('#tabMenuDetail2').click()"
   ]
  },
  {
   "cell_type": "code",
   "execution_count": 8,
   "id": "1703c513-7842-4cc6-994f-f1f6a933ef2d",
   "metadata": {},
   "outputs": [],
   "source": [
    "# time.sleep(1)\n",
    "# a = driver.find_element_xpath('//*[@id=\"review-list-page-area\"]/ul/li[1]/div/div/div[2]/p[1]')"
   ]
  },
  {
   "cell_type": "code",
   "execution_count": null,
   "id": "5d26e339-d8ab-4d5e-a226-6a1ea3cb59ce",
   "metadata": {},
   "outputs": [],
   "source": [
    "URL =\"https://www.bing.com/search?q=site%3Alocalbitcoins.com&qs=n&sp=-1&pq=site%3Alocalbitcoins.com&sc=0-22&sk=&cvid=D38F613A00C64A88B2C0F87BD653088A&first=0\"\n",
    "driver.get(URL)\n",
    "for link in driver.find_elements_by_css_selector(\"h2>a\"):\n",
    "    print(link.text + \",\" + link.get_attribute('href'))"
   ]
  },
  {
   "cell_type": "code",
   "execution_count": 14,
   "id": "ec32656c-1ee8-45b0-872a-90caa781f702",
   "metadata": {},
   "outputs": [
    {
     "data": {
      "text/plain": [
       "<selenium.webdriver.remote.webelement.WebElement (session=\"4584b92f403d68f14fe86c3ad9e3201b\", element=\"13cb5723-0a0a-4ba1-b4a8-9dcaa3817592\")>"
      ]
     },
     "execution_count": 14,
     "metadata": {},
     "output_type": "execute_result"
    }
   ],
   "source": [
    "link"
   ]
  },
  {
   "cell_type": "code",
   "execution_count": null,
   "id": "9627e4c1-ddc7-4134-be0b-439d91ff063d",
   "metadata": {},
   "outputs": [],
   "source": [
    "# searchModule.SetCategoryList(1, '') 스크립트 실행\n",
    "# 16은 임시값, 게시물을 넘어갔을때 현상을 확인차\n",
    "for page in range(2,3):#16):\n",
    "    try:\n",
    "        # 자바스크립트 구동하기\n",
    "        driver.execute_script(\"searchModule.SetCategoryList(%s, '')\" % page)\n",
    "        time.sleep(2)\n",
    "        print(\"%s 페이지 이동\" % page)\n",
    "        #############################################################\n",
    "        # 여러 사이트에서 정보를 수집할 경우 공통 정보 정의 단계 필요\n",
    "        # 상품명, 코멘트, 기간1, 기간2, 가격, 평점, 썸네일, 링크(상품상세정보)\n",
    "        boxItems = driver.find_elements_by_css_selector('#review-list-page-area > ul > li:nth-child(1)')\n",
    "        # 상품 하나 하나 접근\n",
    "        for li in boxItems:\n",
    "            # 이미지를 링크값을 사용할것인가? \n",
    "            # 직접 다운로드 해서 우리 서버에 업로드(ftp) 할것인가?\n",
    "            print( 'name', li.find_element_by_css_selector('dl > dt').text )\n",
    "            area = ''\n",
    "#             for info in li.find_elements_by_css_selector('.info-row .proInfo'):\n",
    "#                 print(  info.text )\n",
    "            print('='*100)\n",
    "            # 데이터 모음\n",
    "            # li.find_elements_by_css_selector('.info-row .proInfo')[1].text\n",
    "            # 데이터가 부족하거나 없을수도 있으므로 직접 인덱스로 표현은 위험성이 있음\n",
    "            obj = TourInfo(  \n",
    "                li.find_element_by_css_selector('dl > dt').text,\n",
    "\n",
    "            )\n",
    "            tour_list.append( obj )\n",
    "    except Exception as e1:\n",
    "        print( '오류', e1 )\n",
    "\n",
    "print( tour_list, len(tour_list) )\n",
    "# 수집한 정보 개수를 루프 => 페이지 방문 => 콘텐츠 획득(상품상세정보) => 디비"
   ]
  },
  {
   "cell_type": "code",
   "execution_count": null,
   "id": "bd62a180-16ea-4f57-855d-19660cc829e3",
   "metadata": {},
   "outputs": [],
   "source": []
  },
  {
   "cell_type": "code",
   "execution_count": null,
   "id": "9947fe57-8159-43b9-aa69-3c3d8edaf796",
   "metadata": {},
   "outputs": [],
   "source": []
  },
  {
   "cell_type": "code",
   "execution_count": null,
   "id": "5203466c-7bce-4a11-88ef-98cf135a6a65",
   "metadata": {},
   "outputs": [],
   "source": [
    "# driver.close()"
   ]
  }
 ],
 "metadata": {
  "kernelspec": {
   "display_name": "Python Multi",
   "language": "python",
   "name": "multi"
  },
  "language_info": {
   "codemirror_mode": {
    "name": "ipython",
    "version": 3
   },
   "file_extension": ".py",
   "mimetype": "text/x-python",
   "name": "python",
   "nbconvert_exporter": "python",
   "pygments_lexer": "ipython3",
   "version": "3.7.6"
  }
 },
 "nbformat": 4,
 "nbformat_minor": 5
}
