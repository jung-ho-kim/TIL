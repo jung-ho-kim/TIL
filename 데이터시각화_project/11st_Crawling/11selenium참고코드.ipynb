{
 "cells": [
  {
   "cell_type": "code",
   "execution_count": 2,
   "metadata": {},
   "outputs": [
    {
     "name": "stdout",
     "output_type": "stream",
     "text": [
      "Collecting folium==0.12.1\n",
      "  Downloading folium-0.12.1-py2.py3-none-any.whl (94 kB)\n",
      "Requirement already satisfied: numpy in c:\\users\\junhk\\anaconda3\\envs\\multi\\lib\\site-packages (from folium==0.12.1) (1.20.3)\n",
      "Collecting branca>=0.3.0\n",
      "  Downloading branca-0.4.2-py3-none-any.whl (24 kB)\n",
      "Requirement already satisfied: requests in c:\\users\\junhk\\anaconda3\\envs\\multi\\lib\\site-packages (from folium==0.12.1) (2.25.1)\n",
      "Requirement already satisfied: jinja2>=2.9 in c:\\users\\junhk\\anaconda3\\envs\\multi\\lib\\site-packages (from folium==0.12.1) (3.0.1)\n",
      "Requirement already satisfied: MarkupSafe>=2.0 in c:\\users\\junhk\\anaconda3\\envs\\multi\\lib\\site-packages (from jinja2>=2.9->folium==0.12.1) (2.0.1)\n",
      "Requirement already satisfied: idna<3,>=2.5 in c:\\users\\junhk\\anaconda3\\envs\\multi\\lib\\site-packages (from requests->folium==0.12.1) (2.10)\n",
      "Requirement already satisfied: chardet<5,>=3.0.2 in c:\\users\\junhk\\anaconda3\\envs\\multi\\lib\\site-packages (from requests->folium==0.12.1) (4.0.0)\n",
      "Requirement already satisfied: certifi>=2017.4.17 in c:\\users\\junhk\\anaconda3\\envs\\multi\\lib\\site-packages (from requests->folium==0.12.1) (2021.5.30)\n",
      "Requirement already satisfied: urllib3<1.27,>=1.21.1 in c:\\users\\junhk\\anaconda3\\envs\\multi\\lib\\site-packages (from requests->folium==0.12.1) (1.26.5)\n",
      "Installing collected packages: branca, folium\n",
      "Successfully installed branca-0.4.2 folium-0.12.1\n",
      "Note: you may need to restart the kernel to use updated packages.\n"
     ]
    }
   ],
   "source": [
    "pip install folium==0.12.1"
   ]
  },
  {
   "cell_type": "code",
   "execution_count": 4,
   "metadata": {},
   "outputs": [],
   "source": [
    "import json\n",
    "import folium\n",
    "import numpy as np\n",
    "import pandas as pd\n",
    "import matplotlib.pyplot as plt\n",
    "import os\n",
    "from folium.plugins import MarkerCluster\n",
    "\n",
    "from bs4 import BeautifulSoup\n",
    "import requests\n",
    "import time\n",
    "\n",
    "import warnings\n",
    "warnings.filterwarnings(\"ignore\")"
   ]
  },
  {
   "cell_type": "code",
   "execution_count": null,
   "metadata": {},
   "outputs": [],
   "source": [
    "from selenium import webdriver\n",
    "from selenium.webdriver.common.keys import Keys\n",
    "from selenium.webdriver.support.ui import WebDriverWait\n",
    "from selenium.webdriver.support import expected_conditions as EC\n",
    "from selenium.common.exceptions import TimeoutException\n",
    "from selenium.common.exceptions import NoSuchElementException\n",
    "from selenium.webdriver.common.by import By\n",
    "from selenium.webdriver.support.ui import Select\n",
    "import time\n",
    "\n",
    "\n",
    "driver = wd.Chrome(executable_path='C:\\\\Users\\\\junhk\\\\TIL\\\\데이터시각화_project\\\\webdriver\\\\chromedriver.exe')\n",
    "\n",
    "for i, keyword in enumerate:\n",
    "    print(i, f\"/ {df_seoul.shape[0]} 행\", keyword)\n",
    "    try:\n",
    "        kakao_map_search_url = f\"https://map.kakao.com/?q={keyword}\"\n",
    "        driver.get(kakao_map_search_url)\n",
    "        time.sleep(3.5)\n",
    "        df_seoul.iloc[i,-1] = driver.find_element_by_css_selector(\"#info\\.search\\.place\\.list > li:nth-child(1) > div.info_item > div.contact.clickArea > a.moreview\").get_attribute('href')\n",
    "    except Exception as e1:\n",
    "        if \"li:nth-child(1)\" in str(e1):\n",
    "            try:\n",
    "                df_seoul.iloc[i,-1] = driver.find_element_by_css_selector(\"#info\\.search\\.place\\.list > li > div.info_item > div.contact.clickArea > a.moreview\").get_attribute('href')\n",
    "                time.sleep(1)\n",
    "            except Exception as e2:\n",
    "                print(e2)\n",
    "                df_seoul.iloc[i,-1] = np.nan\n",
    "                time.sleep(1)\n",
    "        else:\n",
    "            pass    "
   ]
  },
  {
   "cell_type": "code",
   "execution_count": null,
   "metadata": {},
   "outputs": [],
   "source": [
    "from tqdm.notebook import tqdm_notebook\n",
    "\n",
    "blog_review_list = []\n",
    "\n",
    "for i, url in enumerate(tqdm_notebook(df_seoul['kakao_map_url'])):\n",
    "    if i < 1040:\n",
    "        continue\n",
    "    driver = webdriver.Chrome(executable_path=\"chromedriver.exe\")\n",
    "    print(i, url)\n",
    "        \n",
    "    driver.get(url)\n",
    "    time.sleep(1)\n",
    "    review_text = \"\"\n",
    "    \n",
    "    try:\n",
    "        \n",
    "        kakao_map_name = driver.find_element_by_css_selector(\"#mArticle > div.cont_essential > div:nth-child(1) > div.place_details > div > h2\").text\n",
    "        blog_review_qty = driver.find_element_by_css_selector(\"#mArticle > div.cont_essential > div:nth-child(1) > div.place_details > div > div > a:nth-child(5) > span\").text\n",
    "    except Exception as e1:\n",
    "        if \"inactive\" in str(e1):\n",
    "            print(\"크롤링 문제 발생\")\n",
    "            \n",
    "    num = 0\n",
    "    try:\n",
    "        while num < 3:\n",
    "            try:\n",
    "                num += 1\n",
    "                review_text = review_text + driver.find_element_by_css_selector(f\"div.wrap_list > ul > li:nth-child({num}) > a > div.review_story > p\").text\n",
    "                \n",
    "                if num == 3:\n",
    "                    blog_review_list.append(review_text)\n",
    "                    kakao_map_name_list.append(kakao_map_name)\n",
    "                    break\n",
    "            except Exception as e1:\n",
    "                if \"li:nth-child(1)\" in str(e1):\n",
    "                    print(f\"{i}행 리뷰없음\")\n",
    "                    review_text = \"empty\"\n",
    "                    blog_review_list.append(review_text)\n",
    "                    kakao_map_name_list.append(kakao_map_name)\n",
    "                    break\n",
    "                else:\n",
    "                    print(f\"{i}행 문제 발생 - 총 리뷰 {num - 1}개\")\n",
    "                    blog_review_list.append(review_text)     \n",
    "                    kakao_map_name_list.append(kakao_map_name)\n",
    "                    break\n",
    "                \n",
    "    except Exception as e2:\n",
    "        print(e2)\n",
    "        print(f\"{i}행 문제 발생\")\n",
    "    driver.quit()\n",
    "\n",
    "\n",
    "df_seoul['리뷰내용'] = blog_review_list"
   ]
  },
  {
   "cell_type": "code",
   "execution_count": null,
   "metadata": {},
   "outputs": [],
   "source": []
  }
 ],
 "metadata": {
  "kernelspec": {
   "display_name": "Python Multi",
   "language": "python",
   "name": "multi"
  },
  "language_info": {
   "codemirror_mode": {
    "name": "ipython",
    "version": 3
   },
   "file_extension": ".py",
   "mimetype": "text/x-python",
   "name": "python",
   "nbconvert_exporter": "python",
   "pygments_lexer": "ipython3",
   "version": "3.7.6"
  }
 },
 "nbformat": 4,
 "nbformat_minor": 4
}
