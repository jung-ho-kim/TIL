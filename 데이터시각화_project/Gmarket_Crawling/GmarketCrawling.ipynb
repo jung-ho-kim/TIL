{
 "cells": [
  {
   "cell_type": "code",
   "execution_count": null,
   "id": "3c1aa0d7-0fdc-4c9e-9a3b-8e6fdc97033e",
   "metadata": {},
   "outputs": [],
   "source": []
  },
  {
   "cell_type": "code",
   "execution_count": 1,
   "id": "91f08435-8511-4ad3-9b8f-24bf5e519c83",
   "metadata": {},
   "outputs": [],
   "source": [
    "from selenium import webdriver as wd\n",
    "from bs4 import BeautifulSoup as bs\n",
    "from selenium.webdriver.common.by import By\n",
    "# 명시적 대기를 위해 \n",
    "from selenium.webdriver.support.ui import WebDriverWait\n",
    "from selenium.webdriver.support import expected_conditions as EC\n",
    "\n",
    "import time"
   ]
  },
  {
   "cell_type": "code",
   "execution_count": 2,
   "id": "3455e53c-b779-4c1a-96cb-f82f4c3c8c07",
   "metadata": {
    "tags": []
   },
   "outputs": [],
   "source": [
    "main_url = 'http://corners.gmarket.co.kr/Bestsellers'\n",
    "review_list = []"
   ]
  },
  {
   "cell_type": "code",
   "execution_count": 3,
   "id": "d35fed1d-24b6-4bce-bb14-36d34a70ad37",
   "metadata": {},
   "outputs": [],
   "source": [
    "# 윈도우용\n",
    "driver = wd.Chrome(executable_path='C:\\\\Users\\\\junhk\\\\TIL\\\\데이터시각화_project\\\\webdriver\\\\chromedriver.exe')"
   ]
  },
  {
   "cell_type": "code",
   "execution_count": 4,
   "id": "b7409d93-d328-4530-a2a0-4659befec347",
   "metadata": {},
   "outputs": [],
   "source": [
    "# 사이트 접속 (get)\n",
    "driver.get(main_url)\n",
    "# 검색창을 찾아서 검색어 입력"
   ]
  },
  {
   "cell_type": "code",
   "execution_count": 5,
   "id": "88c03505-9497-4b17-9632-f6b6718ba7c3",
   "metadata": {},
   "outputs": [],
   "source": [
    "#time.sleep(2)\n",
    "driver.find_element_by_css_selector('#gBestWrap > div > div:nth-child(5) > div:nth-child(3) > ul > li:nth-child(1) > div.thumb > a > img').click()"
   ]
  },
  {
   "cell_type": "code",
   "execution_count": 6,
   "id": "e69aa3af-7165-487e-918c-dfed150b3a71",
   "metadata": {},
   "outputs": [],
   "source": [
    "driver.execute_script(\"window.scrollTo(0, 900);\")"
   ]
  },
  {
   "cell_type": "code",
   "execution_count": 7,
   "id": "fb5ab36f-5810-4787-af69-830d694cf2cd",
   "metadata": {},
   "outputs": [],
   "source": [
    "driver.find_element_by_css_selector('#container > div.vip-tabwrap.uxetabs > div.vip-tabnavi.uxeposfix > ul > li:nth-child(2) > a').click()"
   ]
  },
  {
   "cell_type": "code",
   "execution_count": null,
   "id": "25d9ecaf-3838-4dbd-8421-21eb7d45931c",
   "metadata": {},
   "outputs": [],
   "source": [
    "# searchModule.SetCategoryList(1, '') 스크립트 실행\n",
    "# 게시물을 넘어갔을때 현상을 확인차\n",
    "for page in range(1, 2): # 2):\n",
    "    try:\n",
    "        # 자바스크립트 구동하기\n",
    "        driver.execute_script(\"searchModule.SetCategoryList(%s, '')\" % page)\n",
    "        time.sleep(2)\n",
    "        print(\"%s 페이지 이동\" % page)\n",
    "        #############################################################\n",
    "        # 여러 사이트에서 정보를 수집할 경우 공통 정보 정의 단계 필요\n",
    "        # 상품명, 코멘트, 기간1, 기간2, 가격, 평점, 썸네일, 링크(상품상세정보)\n",
    "        boxItems = driver.find_elements_by_css_selector('.oTravelBox>.boxList>li')\n",
    "        # 상품 하나 하나 접근\n",
    "        for li in boxItems:\n",
    "            # 이미지를 링크값을 사용할것인가? \n",
    "            # 직접 다운로드 해서 우리 서버에 업로드(ftp) 할것인가?\n",
    "            print( 'name', li.find_element_by_css_selector('#review-list-page-area > ul > li:nth-child(1) > dl > dt').text )\n",
    "            print( 'date', li.find_element_by_css_selector('#review-list-page-area > ul > li:nth-child(1) > div > p.side > span').text )\n",
    "            print( 'rating', li.find_element_by_css_selector('#review-list-page-area > ul > li:nth-child(1) > div > p.grade > span > em').text )\n",
    "            print( 'text', li.find_element_by_css_selector('#review-list-page-area > ul > li:nth-child(1) > div > div > div.cont_text_wrap > p').text )\n",
    "            area = ''\n",
    "            for info in li.find_elements_by_css_selector('.info-row .proInfo'):\n",
    "                print(  info.text )\n",
    "            print('='*100)\n",
    "            # 데이터 모음\n",
    "            # li.find_elements_by_css_selector('.info-row .proInfo')[1].text\n",
    "            # 데이터가 부족하거나 없을수도 있으므로 직접 인덱스로 표현은 위험성이 있음\n",
    "            obj = TourInfo(  \n",
    "                li.find_element_by_css_selector('#review-list-page-area > ul > li:nth-child(1) > dl > dt').text,\n",
    "                li.find_element_by_css_selector('#review-list-page-area > ul > li:nth-child(1) > div > p.side > span').text,\n",
    "                li.find_elements_by_css_selector('#review-list-page-area > ul > li:nth-child(1) > div > p.grade > span > em').text,\n",
    "                li.find_element_by_css_selector('#review-list-page-area > ul > li:nth-child(1) > div > div > div.cont_text_wrap > p').text\n",
    "            )\n",
    "            tour_list.append( obj )\n",
    "    except Exception as e1:\n",
    "        print( '오류', e1 )\n"
   ]
  },
  {
   "cell_type": "code",
   "execution_count": null,
   "id": "b56aa34c-5cc4-4495-be8f-71be2980c73a",
   "metadata": {},
   "outputs": [],
   "source": [
    "# print( 'name', driver.find_element_by_css_selector('#review-list-page-area > ul > li:nth-child(1) > dl > dt').text )\n",
    "# print( 'date', driver.find_element_by_css_selector('#review-list-page-area > ul > li:nth-child(1) > div > p.side > span').text )\n",
    "# print( 'rating', driver.find_element_by_css_selector('#review-list-page-area > ul > li:nth-child(1) > div > p.grade > span > em').text )\n",
    "# print( 'text', driver.find_element_by_css_selector('#review-list-page-area > ul > li:nth-child(1) > div > div > div.cont_text_wrap > p').text )"
   ]
  },
  {
   "cell_type": "code",
   "execution_count": null,
   "id": "145dbb95-cff5-42af-9016-d9b48dbeb408",
   "metadata": {},
   "outputs": [],
   "source": []
  },
  {
   "cell_type": "code",
   "execution_count": null,
   "id": "5e1c48f9-df81-4d05-877e-95c73206c049",
   "metadata": {},
   "outputs": [],
   "source": [
    "driver.close()"
   ]
  },
  {
   "cell_type": "code",
   "execution_count": null,
   "id": "4a831fda-89a2-48ec-87ce-039e42989f86",
   "metadata": {},
   "outputs": [],
   "source": []
  },
  {
   "cell_type": "code",
   "execution_count": null,
   "id": "bd19a639-8f05-423a-a9c7-905f5929cd44",
   "metadata": {},
   "outputs": [],
   "source": []
  },
  {
   "cell_type": "code",
   "execution_count": null,
   "id": "d67b1df3-3cbd-4994-809c-131508b56e7f",
   "metadata": {},
   "outputs": [],
   "source": []
  },
  {
   "cell_type": "code",
   "execution_count": null,
   "id": "aa1c7491-983d-49d8-8dc3-a7f9b3e6e3ee",
   "metadata": {},
   "outputs": [],
   "source": []
  },
  {
   "cell_type": "code",
   "execution_count": null,
   "id": "554ebdf5-3aa7-472f-bff6-d050793d842d",
   "metadata": {},
   "outputs": [],
   "source": []
  },
  {
   "cell_type": "code",
   "execution_count": null,
   "id": "edb692c9-016d-49e6-8a34-6bf40c8376a0",
   "metadata": {},
   "outputs": [],
   "source": []
  },
  {
   "cell_type": "code",
   "execution_count": null,
   "id": "bda8c309-ba98-4822-9b99-e6527af7a8c2",
   "metadata": {},
   "outputs": [],
   "source": []
  },
  {
   "cell_type": "code",
   "execution_count": null,
   "id": "eed3c091-1513-4ca0-a7db-e81882d32337",
   "metadata": {},
   "outputs": [],
   "source": []
  },
  {
   "cell_type": "code",
   "execution_count": null,
   "id": "8be78b33-d9b8-4806-a751-0fbe41e36255",
   "metadata": {},
   "outputs": [],
   "source": []
  },
  {
   "cell_type": "code",
   "execution_count": null,
   "id": "c600b3e3-e617-4473-acb1-ed403db96539",
   "metadata": {},
   "outputs": [],
   "source": []
  },
  {
   "cell_type": "code",
   "execution_count": null,
   "id": "81cb8abe-eab0-45cd-bfa8-ac1323a17a21",
   "metadata": {},
   "outputs": [],
   "source": []
  },
  {
   "cell_type": "code",
   "execution_count": null,
   "id": "d451bb85-9ed5-406a-80af-c1d82caef818",
   "metadata": {},
   "outputs": [],
   "source": []
  },
  {
   "cell_type": "code",
   "execution_count": null,
   "id": "bb401697-5ec3-4c05-abc5-e3e5c37b1b50",
   "metadata": {},
   "outputs": [],
   "source": []
  },
  {
   "cell_type": "code",
   "execution_count": null,
   "id": "98444c47-fabc-4096-9c83-366cf77c9947",
   "metadata": {},
   "outputs": [],
   "source": []
  },
  {
   "cell_type": "code",
   "execution_count": null,
   "id": "0cbde755-1dd3-440b-90df-9b986ed463ad",
   "metadata": {},
   "outputs": [],
   "source": []
  },
  {
   "cell_type": "code",
   "execution_count": null,
   "id": "3fd150b3-f823-4b3e-8856-986eab85afc0",
   "metadata": {},
   "outputs": [],
   "source": []
  },
  {
   "cell_type": "code",
   "execution_count": null,
   "id": "9947fe57-8159-43b9-aa69-3c3d8edaf796",
   "metadata": {},
   "outputs": [],
   "source": []
  },
  {
   "cell_type": "code",
   "execution_count": null,
   "id": "5203466c-7bce-4a11-88ef-98cf135a6a65",
   "metadata": {},
   "outputs": [],
   "source": []
  }
 ],
 "metadata": {
  "kernelspec": {
   "display_name": "Python Multi",
   "language": "python",
   "name": "multi"
  },
  "language_info": {
   "codemirror_mode": {
    "name": "ipython",
    "version": 3
   },
   "file_extension": ".py",
   "mimetype": "text/x-python",
   "name": "python",
   "nbconvert_exporter": "python",
   "pygments_lexer": "ipython3",
   "version": "3.7.6"
  }
 },
 "nbformat": 4,
 "nbformat_minor": 5
}
