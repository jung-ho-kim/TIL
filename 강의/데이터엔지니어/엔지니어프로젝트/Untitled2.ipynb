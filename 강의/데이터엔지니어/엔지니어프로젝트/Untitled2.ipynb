{
 "cells": [
  {
   "cell_type": "code",
   "execution_count": null,
   "id": "35c8a0a6-5f18-4fc4-ad10-4ae16c33e4aa",
   "metadata": {},
   "outputs": [],
   "source": [
    "import csv"
   ]
  },
  {
   "cell_type": "code",
   "execution_count": null,
   "id": "3f8b5324-e0fe-4177-a191-f2d6ae39df17",
   "metadata": {},
   "outputs": [],
   "source": [
    "f=open('C:\\\\Users\\\\junhk\\\\Desktop\\\\데이터\\\\초단기예보\\\\2021-07\\\\20210816133019\\\\3동_기온_201807_201906.csv', 'r', encoding='utf-8')\n",
    "rdr = csv.reader(f)\n",
    "for line in rdr:\n",
    "    tem = line[3]\n",
    "        \n",
    "f.close()"
   ]
  },
  {
   "cell_type": "code",
   "execution_count": null,
   "id": "8244b0b2-dd89-4d59-b285-fa47cba7a27b",
   "metadata": {},
   "outputs": [],
   "source": []
  },
  {
   "cell_type": "code",
   "execution_count": null,
   "id": "5f1613d5-79c2-4b26-a39e-c2dfcc2c2bc0",
   "metadata": {},
   "outputs": [],
   "source": [
    "import matplotlib.pyplot as plt"
   ]
  },
  {
   "cell_type": "code",
   "execution_count": null,
   "id": "f6aa1462-cd0d-4166-b5a1-d520ea0a6bac",
   "metadata": {},
   "outputs": [],
   "source": [
    "plt.plot(for line in rdr:\n",
    "             line[3])"
   ]
  },
  {
   "cell_type": "code",
   "execution_count": null,
   "id": "d9dfb8c1-6ccc-4ccb-b6b5-f7b66d072dbc",
   "metadata": {},
   "outputs": [],
   "source": [
    "for line in rdr:\n",
    "    print(line[1])"
   ]
  },
  {
   "cell_type": "code",
   "execution_count": null,
   "id": "9bbfcb74-02d2-4d8a-822b-52b4fc504964",
   "metadata": {},
   "outputs": [],
   "source": []
  },
  {
   "cell_type": "code",
   "execution_count": null,
   "id": "954ffb4b-3229-4fb5-96c4-598d403594a0",
   "metadata": {},
   "outputs": [],
   "source": [
    "import pandas as pd"
   ]
  },
  {
   "cell_type": "code",
   "execution_count": null,
   "id": "c510b59a-3e68-4360-a1fd-434d5914b01a",
   "metadata": {},
   "outputs": [],
   "source": [
    "df = pd.read_csv('C:\\\\Users\\\\junhk\\\\Desktop\\\\데이터\\\\초단기예보\\\\2021-07\\\\20210816133019\\\\3동_기온_201807_201906.csv', 'r', encoding='cp949')"
   ]
  },
  {
   "cell_type": "code",
   "execution_count": null,
   "id": "f5bfc69c-1666-4447-a7d1-d47431ce2191",
   "metadata": {},
   "outputs": [],
   "source": [
    "csv"
   ]
  },
  {
   "cell_type": "code",
   "execution_count": null,
   "id": "1fddbd6e-9663-459f-80ce-dfdc4c88b4dc",
   "metadata": {},
   "outputs": [],
   "source": []
  },
  {
   "cell_type": "code",
   "execution_count": null,
   "id": "814a5f18-8ea7-4577-9544-ea8a0d05bc26",
   "metadata": {},
   "outputs": [],
   "source": []
  },
  {
   "cell_type": "code",
   "execution_count": null,
   "id": "f9f2e3e4-45a5-4752-8d8d-00a1c8e31c6e",
   "metadata": {},
   "outputs": [],
   "source": [
    "from kafka import kafkaProducer\n",
    "from json import dumps\n",
    "import time\n",
    "producer = kafkaProducer"
   ]
  },
  {
   "cell_type": "code",
   "execution_count": null,
   "id": "aea5d681-61a5-4804-8d84-c753a7fe8dc8",
   "metadata": {},
   "outputs": [],
   "source": [
    "f = open('C:\\\\Users\\\\junhk\\\\Desktop\\\\데이터\\\\초단기예보\\\\2021-07\\\\20210816133019\\\\교남동_기온_20210701_20210815.csv', 'r', encoding='utf-8')\n",
    "rdr = csv.reader(f, delimiter=',')\n",
    "print(rdr)\n",
    " \n",
    "f.close()"
   ]
  },
  {
   "cell_type": "code",
   "execution_count": null,
   "id": "ec82e079-421f-455f-ad9a-6605400f6f5e",
   "metadata": {},
   "outputs": [],
   "source": [
    "import pandas as pd"
   ]
  },
  {
   "cell_type": "code",
   "execution_count": null,
   "id": "1be034fc-ecf7-4b22-9708-5a616eace892",
   "metadata": {},
   "outputs": [],
   "source": [
    "pd.read_csv('C:\\\\Users\\\\junhk\\\\Desktop\\\\데이터\\\\초단기예보\\\\2021-07\\\\20210816133019\\\\교남동_기온_20210701_20210815.csv', sep=\",\")"
   ]
  },
  {
   "cell_type": "code",
   "execution_count": 2,
   "id": "181183c3-5b39-4292-9179-c93da3cd3da2",
   "metadata": {},
   "outputs": [],
   "source": [
    "import csv \n",
    "import json \n",
    "\n",
    "def csv_to_json(csvFilePath, jsonFilePath):\n",
    "    jsonArray = []\n",
    "      \n",
    "    #read csv file\n",
    "    with open(csvFilePath, encoding='utf-8') as csvf: \n",
    "        #load csv file data using csv library's dictionary reader\n",
    "        csvReader = csv.DictReader(csvf) \n",
    "\n",
    "        #convert each csv row into python dict\n",
    "        for row in csvReader: \n",
    "            #add this python dict to json array\n",
    "            jsonArray.append(row)\n",
    "  \n",
    "    #convert python jsonArray to JSON String and write to file\n",
    "    with open(jsonFilePath, 'w', encoding='utf-8') as jsonf: \n",
    "        jsonString = json.dumps(jsonArray, indent=4)\n",
    "        jsonf.write(jsonString)\n",
    "          \n",
    "csvFilePath = r'C:\\\\Users\\\\junhk\\\\Desktop\\\\data\\\\gy1_trick.csv'\n",
    "jsonFilePath = r'C:\\\\Users\\\\junhk\\\\Desktop\\\\data\\\\gy1_trick.json'\n",
    "csv_to_json(csvFilePath, jsonFilePath)"
   ]
  },
  {
   "cell_type": "code",
   "execution_count": null,
   "id": "cf39c548-9789-49ea-ad65-dc7767b9d15c",
   "metadata": {},
   "outputs": [],
   "source": []
  },
  {
   "cell_type": "code",
   "execution_count": null,
   "id": "d7f8580d-982f-4aac-88f8-c3f9e059d6aa",
   "metadata": {},
   "outputs": [],
   "source": [
    "import pandas as pd"
   ]
  },
  {
   "cell_type": "code",
   "execution_count": null,
   "id": "d822fb7a-ea7d-4dfd-a8ea-ba17a09a7065",
   "metadata": {},
   "outputs": [],
   "source": [
    "df = pd.read_csv('C:\\\\Users\\\\junhk\\\\Desktop\\\\초단기예보\\\\3동_기온_202007_202106.csv')"
   ]
  },
  {
   "cell_type": "code",
   "execution_count": null,
   "id": "472c64df-86a9-4a75-9647-ffc5a13acfbb",
   "metadata": {},
   "outputs": [],
   "source": [
    "df.head()"
   ]
  },
  {
   "cell_type": "code",
   "execution_count": null,
   "id": "e1d5f3b6-303c-445c-a0c7-1db20df9e4cc",
   "metadata": {},
   "outputs": [],
   "source": [
    "df.info()"
   ]
  },
  {
   "cell_type": "code",
   "execution_count": null,
   "id": "8c737375-5d0a-4027-b049-0fdd8141053d",
   "metadata": {},
   "outputs": [],
   "source": [
    "df.isnull().sum()"
   ]
  },
  {
   "cell_type": "code",
   "execution_count": null,
   "id": "281d57a8-1ec9-47d5-b543-dcec9b422214",
   "metadata": {},
   "outputs": [],
   "source": [
    "df_drop = df.dropna(how='any')"
   ]
  },
  {
   "cell_type": "code",
   "execution_count": null,
   "id": "119ece25-8988-4d12-8a27-03212b4ffd56",
   "metadata": {},
   "outputs": [],
   "source": [
    "df_drop.isnull().sum()"
   ]
  },
  {
   "cell_type": "code",
   "execution_count": null,
   "id": "f731dcad-3d42-47ec-bb5c-f87ee8a8146f",
   "metadata": {},
   "outputs": [],
   "source": [
    "df_drop.info()"
   ]
  },
  {
   "cell_type": "code",
   "execution_count": null,
   "id": "a9e05942-60c6-4692-beda-b066e65f9359",
   "metadata": {},
   "outputs": [],
   "source": [
    "df2=df_t.dropna(how='any')"
   ]
  },
  {
   "cell_type": "code",
   "execution_count": null,
   "id": "0212df41-bcac-449b-9cd9-c7352d3eab77",
   "metadata": {},
   "outputs": [],
   "source": [
    "df_t = df['tem']"
   ]
  },
  {
   "cell_type": "code",
   "execution_count": null,
   "id": "31d6f0a8-783f-4899-aa89-847e601a1711",
   "metadata": {},
   "outputs": [],
   "source": [
    "df_t.isnull()"
   ]
  },
  {
   "cell_type": "code",
   "execution_count": null,
   "id": "7b17f0f4-18b4-4af7-be39-17cccf1fdaa4",
   "metadata": {},
   "outputs": [],
   "source": [
    "df2.isnull()"
   ]
  },
  {
   "cell_type": "code",
   "execution_count": null,
   "id": "7c842ac4-7920-4a51-b660-0b0451665ae2",
   "metadata": {},
   "outputs": [],
   "source": [
    "df2.head()"
   ]
  },
  {
   "cell_type": "code",
   "execution_count": null,
   "id": "34e88496-1762-4e91-baac-1e26dc70a478",
   "metadata": {},
   "outputs": [],
   "source": [
    "df2.plot()"
   ]
  },
  {
   "cell_type": "code",
   "execution_count": null,
   "id": "ef701559-09d2-4ff8-acf0-cae031ce65c4",
   "metadata": {},
   "outputs": [],
   "source": [
    "import pandas as pd\n",
    "df = pd.read_csv('C:\\\\Users\\\\junhk\\\\Desktop\\\\초단기실황\\\\3동_기온_201807_201906.csv')"
   ]
  },
  {
   "cell_type": "code",
   "execution_count": null,
   "id": "5ed02cb2-98d3-48f7-ad41-b5e93d8d5947",
   "metadata": {},
   "outputs": [],
   "source": [
    "df.isnull().sum()"
   ]
  },
  {
   "cell_type": "code",
   "execution_count": null,
   "id": "8a2ec6fc-7306-4c6d-b2bb-a33990eade2f",
   "metadata": {},
   "outputs": [],
   "source": [
    "df_drop = df.dropna(how='any')"
   ]
  },
  {
   "cell_type": "code",
   "execution_count": null,
   "id": "afa77f81-b56e-4a72-ade4-4ed6b0cc157c",
   "metadata": {},
   "outputs": [],
   "source": [
    "df_drop.isnull().sum()"
   ]
  },
  {
   "cell_type": "code",
   "execution_count": null,
   "id": "f3af5650-539a-439c-be8c-c722e2a5bbff",
   "metadata": {},
   "outputs": [],
   "source": [
    "df2 = df_drop['tem']"
   ]
  },
  {
   "cell_type": "code",
   "execution_count": null,
   "id": "ddbc7ec8-9c99-4e66-a973-3700796c03ba",
   "metadata": {},
   "outputs": [],
   "source": [
    "df2.plot()"
   ]
  },
  {
   "cell_type": "code",
   "execution_count": null,
   "id": "4adbb3a6-9d0f-4400-b516-2e564eb5d191",
   "metadata": {},
   "outputs": [],
   "source": [
    "df_drop.to_csv('dadata.csv', mode='w')"
   ]
  },
  {
   "cell_type": "code",
   "execution_count": null,
   "id": "74839bed-c77e-478c-8faa-7aaadf6d57d9",
   "metadata": {},
   "outputs": [],
   "source": []
  },
  {
   "cell_type": "code",
   "execution_count": null,
   "id": "4d2e9bf5-387e-4066-96b3-ab2fafe1af71",
   "metadata": {},
   "outputs": [],
   "source": [
    "import pandas as pd\n",
    "df = pd.read_csv('C:\\\\Users\\\\junhk\\\\Desktop\\\\초단기실황\\\\3동_기온_201807_201906.csv')\n",
    "df_drop = df.dropna(how='any')\n",
    "df_drop.to_csv('dadata.csv', mode='w')"
   ]
  },
  {
   "cell_type": "code",
   "execution_count": null,
   "id": "033af25f-14e2-4bc7-92dd-4ab1333efbf8",
   "metadata": {},
   "outputs": [],
   "source": []
  },
  {
   "cell_type": "code",
   "execution_count": null,
   "id": "deaa8bc6-b8aa-44dd-9423-c0c125ce1dc3",
   "metadata": {},
   "outputs": [],
   "source": []
  }
 ],
 "metadata": {
  "kernelspec": {
   "display_name": "multi",
   "language": "python",
   "name": "multi"
  },
  "language_info": {
   "codemirror_mode": {
    "name": "ipython",
    "version": 3
   },
   "file_extension": ".py",
   "mimetype": "text/x-python",
   "name": "python",
   "nbconvert_exporter": "python",
   "pygments_lexer": "ipython3",
   "version": "3.8.8"
  }
 },
 "nbformat": 4,
 "nbformat_minor": 5
}
