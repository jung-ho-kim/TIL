{
 "cells": [
  {
   "cell_type": "code",
   "execution_count": null,
   "id": "82bd55e2-224f-4f1a-ba5d-9a5a783fd371",
   "metadata": {},
   "outputs": [],
   "source": [
    "## 화질 낮추기"
   ]
  },
  {
   "cell_type": "code",
   "execution_count": null,
   "id": "723f3800-e1be-49b3-a7c7-4e175484527f",
   "metadata": {},
   "outputs": [],
   "source": [
    "# !pip install pillow"
   ]
  },
  {
   "cell_type": "code",
   "execution_count": 1,
   "id": "3a356a2f-1fc9-4de3-a820-46d3c0fe9551",
   "metadata": {},
   "outputs": [],
   "source": [
    "import time\n",
    "import os\n",
    "from PIL import Image"
   ]
  },
  {
   "cell_type": "code",
   "execution_count": 4,
   "id": "523a8856-da3e-44a9-87f7-2be7760f32c5",
   "metadata": {},
   "outputs": [],
   "source": [
    "def createFolder(directory):\n",
    "    try:\n",
    "        if not os.path.exists(directory):\n",
    "            os.makedirs(directory)\n",
    "    except OSError:\n",
    "        print ('Error: Creating directory. ' +  directory)"
   ]
  },
  {
   "cell_type": "code",
   "execution_count": null,
   "id": "05be513c-4af3-4ddd-9670-1b11907c618f",
   "metadata": {},
   "outputs": [],
   "source": []
  },
  {
   "cell_type": "code",
   "execution_count": 5,
   "id": "0bb7c48d-995e-4be0-8ba7-12798078d557",
   "metadata": {},
   "outputs": [
    {
     "name": "stdout",
     "output_type": "stream",
     "text": [
      "time :  3.3835556507110596\n"
     ]
    }
   ],
   "source": [
    "targetdir = 'image' # 폴더 이름\n",
    "files = os.listdir(targetdir)\n",
    "\n",
    "format = [\".jpg\",\".jpeg\",\"png\",\"JPG\",\"JPEG\",\"PNG\"]\n",
    "\n",
    "start = time.time()\n",
    "for (path,dirs,files) in os.walk(targetdir):\n",
    "    for file in files :\n",
    "        image = Image.open(path+'\\\\'+file) ## path : 이미지 폴더명, file : 파일명\n",
    "#         image.save(path+'\\\\'+file,'JPEG',quality=40)  # 파일 저장(원본 덮어쓰기)\n",
    "        createFolder('new_'+path) # 새로운 폴더 생성\n",
    "        image.save('new_'+path+'\\\\'+file,'JPEG',quality=40) # 파일 저장\n",
    "        \n",
    "print(\"time : \", time.time() - start)"
   ]
  },
  {
   "cell_type": "code",
   "execution_count": null,
   "id": "384a6439-33d4-4424-bf88-b3dbdf60c1bb",
   "metadata": {},
   "outputs": [],
   "source": []
  }
 ],
 "metadata": {
  "kernelspec": {
   "display_name": "Python Multi",
   "language": "python",
   "name": "multi"
  },
  "language_info": {
   "codemirror_mode": {
    "name": "ipython",
    "version": 3
   },
   "file_extension": ".py",
   "mimetype": "text/x-python",
   "name": "python",
   "nbconvert_exporter": "python",
   "pygments_lexer": "ipython3",
   "version": "3.7.6"
  }
 },
 "nbformat": 4,
 "nbformat_minor": 5
}
